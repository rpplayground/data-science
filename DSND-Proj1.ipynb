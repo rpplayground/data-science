{
 "cells": [
  {
   "cell_type": "markdown",
   "metadata": {
    "collapsed": true
   },
   "source": [
    "### Udacity Data Science Nanodegree - Proj 1 ###\n",
    "\n",
    "This code in this notebook is intended to support the corresponding blog post: [\"Asking Important Questions about Wine: An Investigation of Wine Enthusiast Ratings\"](http://zdmc.info/blog/asking-important-questions-about-wine), and is hosted at GitHub: https://github.com/zdmc23/data-science/asking-important-questions-about-wine.ipynb and Kaggle: XX"
   ]
  },
  {
   "cell_type": "markdown",
   "metadata": {},
   "source": [
    "#### Outline ####\n",
    "\n",
    " - [GATHER the data](#gather)\n",
    " - [ASSESS the data](#assess)\n",
    " - [CLEAN and TRANSFORM the data](#clean-xform)\n",
    " - [VISUALIZE and ANALYZE the data](#analyze)\n",
    " - [MODEL the data](#model)\n",
    " - [CONCLUSION](#conclusion)"
   ]
  },
  {
   "cell_type": "markdown",
   "metadata": {},
   "source": [
    "#### Import dependencies ####"
   ]
  },
  {
   "cell_type": "code",
   "execution_count": 1,
   "metadata": {
    "collapsed": true
   },
   "outputs": [],
   "source": [
    "import pandas as pd\n",
    "import matplotlib.pyplot as plt\n",
    "import seaborn as sns\n",
    "import numpy as np\n",
    "import warnings\n",
    "warnings.filterwarnings('ignore')\n",
    "%matplotlib inline"
   ]
  },
  {
   "cell_type": "markdown",
   "metadata": {},
   "source": [
    "<a id=\"gather\"></a>"
   ]
  },
  {
   "cell_type": "markdown",
   "metadata": {},
   "source": [
    "### GATHER the data ###\n",
    "\n",
    " 1. Kaggle dataset\n",
    " 1. Supplementary Wikipedia dataset"
   ]
  },
  {
   "cell_type": "markdown",
   "metadata": {},
   "source": [
    "#### Kaggle dataset ####\n",
    "\n",
    "We have selected a Kaggle dataset for this project; the data can be found here: https://www.kaggle.com/zynicide/wine-reviews (requires Kaggle account to download). We have a single file in CSV format, so let's go ahead and load our data."
   ]
  },
  {
   "cell_type": "code",
   "execution_count": 2,
   "metadata": {},
   "outputs": [
    {
     "data": {
      "text/html": [
       "<div>\n",
       "<style>\n",
       "    .dataframe thead tr:only-child th {\n",
       "        text-align: right;\n",
       "    }\n",
       "\n",
       "    .dataframe thead th {\n",
       "        text-align: left;\n",
       "    }\n",
       "\n",
       "    .dataframe tbody tr th {\n",
       "        vertical-align: top;\n",
       "    }\n",
       "</style>\n",
       "<table border=\"1\" class=\"dataframe\">\n",
       "  <thead>\n",
       "    <tr style=\"text-align: right;\">\n",
       "      <th></th>\n",
       "      <th>country</th>\n",
       "      <th>description</th>\n",
       "      <th>designation</th>\n",
       "      <th>points</th>\n",
       "      <th>price</th>\n",
       "      <th>province</th>\n",
       "      <th>region_1</th>\n",
       "      <th>region_2</th>\n",
       "      <th>taster_name</th>\n",
       "      <th>taster_twitter_handle</th>\n",
       "      <th>title</th>\n",
       "      <th>variety</th>\n",
       "      <th>winery</th>\n",
       "    </tr>\n",
       "  </thead>\n",
       "  <tbody>\n",
       "    <tr>\n",
       "      <th>0</th>\n",
       "      <td>Italy</td>\n",
       "      <td>Aromas include tropical fruit, broom, brimston...</td>\n",
       "      <td>Vulkà Bianco</td>\n",
       "      <td>87</td>\n",
       "      <td>NaN</td>\n",
       "      <td>Sicily &amp; Sardinia</td>\n",
       "      <td>Etna</td>\n",
       "      <td>NaN</td>\n",
       "      <td>Kerin O’Keefe</td>\n",
       "      <td>@kerinokeefe</td>\n",
       "      <td>Nicosia 2013 Vulkà Bianco  (Etna)</td>\n",
       "      <td>White Blend</td>\n",
       "      <td>Nicosia</td>\n",
       "    </tr>\n",
       "    <tr>\n",
       "      <th>1</th>\n",
       "      <td>Portugal</td>\n",
       "      <td>This is ripe and fruity, a wine that is smooth...</td>\n",
       "      <td>Avidagos</td>\n",
       "      <td>87</td>\n",
       "      <td>15.0</td>\n",
       "      <td>Douro</td>\n",
       "      <td>NaN</td>\n",
       "      <td>NaN</td>\n",
       "      <td>Roger Voss</td>\n",
       "      <td>@vossroger</td>\n",
       "      <td>Quinta dos Avidagos 2011 Avidagos Red (Douro)</td>\n",
       "      <td>Portuguese Red</td>\n",
       "      <td>Quinta dos Avidagos</td>\n",
       "    </tr>\n",
       "    <tr>\n",
       "      <th>2</th>\n",
       "      <td>US</td>\n",
       "      <td>Tart and snappy, the flavors of lime flesh and...</td>\n",
       "      <td>NaN</td>\n",
       "      <td>87</td>\n",
       "      <td>14.0</td>\n",
       "      <td>Oregon</td>\n",
       "      <td>Willamette Valley</td>\n",
       "      <td>Willamette Valley</td>\n",
       "      <td>Paul Gregutt</td>\n",
       "      <td>@paulgwine</td>\n",
       "      <td>Rainstorm 2013 Pinot Gris (Willamette Valley)</td>\n",
       "      <td>Pinot Gris</td>\n",
       "      <td>Rainstorm</td>\n",
       "    </tr>\n",
       "    <tr>\n",
       "      <th>3</th>\n",
       "      <td>US</td>\n",
       "      <td>Pineapple rind, lemon pith and orange blossom ...</td>\n",
       "      <td>Reserve Late Harvest</td>\n",
       "      <td>87</td>\n",
       "      <td>13.0</td>\n",
       "      <td>Michigan</td>\n",
       "      <td>Lake Michigan Shore</td>\n",
       "      <td>NaN</td>\n",
       "      <td>Alexander Peartree</td>\n",
       "      <td>NaN</td>\n",
       "      <td>St. Julian 2013 Reserve Late Harvest Riesling ...</td>\n",
       "      <td>Riesling</td>\n",
       "      <td>St. Julian</td>\n",
       "    </tr>\n",
       "    <tr>\n",
       "      <th>4</th>\n",
       "      <td>US</td>\n",
       "      <td>Much like the regular bottling from 2012, this...</td>\n",
       "      <td>Vintner's Reserve Wild Child Block</td>\n",
       "      <td>87</td>\n",
       "      <td>65.0</td>\n",
       "      <td>Oregon</td>\n",
       "      <td>Willamette Valley</td>\n",
       "      <td>Willamette Valley</td>\n",
       "      <td>Paul Gregutt</td>\n",
       "      <td>@paulgwine</td>\n",
       "      <td>Sweet Cheeks 2012 Vintner's Reserve Wild Child...</td>\n",
       "      <td>Pinot Noir</td>\n",
       "      <td>Sweet Cheeks</td>\n",
       "    </tr>\n",
       "  </tbody>\n",
       "</table>\n",
       "</div>"
      ],
      "text/plain": [
       "    country                                        description  \\\n",
       "0     Italy  Aromas include tropical fruit, broom, brimston...   \n",
       "1  Portugal  This is ripe and fruity, a wine that is smooth...   \n",
       "2        US  Tart and snappy, the flavors of lime flesh and...   \n",
       "3        US  Pineapple rind, lemon pith and orange blossom ...   \n",
       "4        US  Much like the regular bottling from 2012, this...   \n",
       "\n",
       "                          designation  points  price           province  \\\n",
       "0                        Vulkà Bianco      87    NaN  Sicily & Sardinia   \n",
       "1                            Avidagos      87   15.0              Douro   \n",
       "2                                 NaN      87   14.0             Oregon   \n",
       "3                Reserve Late Harvest      87   13.0           Michigan   \n",
       "4  Vintner's Reserve Wild Child Block      87   65.0             Oregon   \n",
       "\n",
       "              region_1           region_2         taster_name  \\\n",
       "0                 Etna                NaN       Kerin O’Keefe   \n",
       "1                  NaN                NaN          Roger Voss   \n",
       "2    Willamette Valley  Willamette Valley        Paul Gregutt   \n",
       "3  Lake Michigan Shore                NaN  Alexander Peartree   \n",
       "4    Willamette Valley  Willamette Valley        Paul Gregutt   \n",
       "\n",
       "  taster_twitter_handle                                              title  \\\n",
       "0          @kerinokeefe                  Nicosia 2013 Vulkà Bianco  (Etna)   \n",
       "1            @vossroger      Quinta dos Avidagos 2011 Avidagos Red (Douro)   \n",
       "2           @paulgwine       Rainstorm 2013 Pinot Gris (Willamette Valley)   \n",
       "3                   NaN  St. Julian 2013 Reserve Late Harvest Riesling ...   \n",
       "4           @paulgwine   Sweet Cheeks 2012 Vintner's Reserve Wild Child...   \n",
       "\n",
       "          variety               winery  \n",
       "0     White Blend              Nicosia  \n",
       "1  Portuguese Red  Quinta dos Avidagos  \n",
       "2      Pinot Gris            Rainstorm  \n",
       "3        Riesling           St. Julian  \n",
       "4      Pinot Noir         Sweet Cheeks  "
      ]
     },
     "execution_count": 2,
     "metadata": {},
     "output_type": "execute_result"
    }
   ],
   "source": [
    "df = pd.read_csv(\"winemag-data-130k-v2.csv\", index_col=0)\n",
    "df.head()"
   ]
  },
  {
   "cell_type": "markdown",
   "metadata": {},
   "source": [
    "This dataset looks relatively manageable with only 10-15 columns. Let's take a quick look at the \"shape\" of the DataFrame to find out how many rows/entries and cols/variables/features that we have:"
   ]
  },
  {
   "cell_type": "code",
   "execution_count": 3,
   "metadata": {},
   "outputs": [
    {
     "data": {
      "text/plain": [
       "(129971, 13)"
      ]
     },
     "execution_count": 3,
     "metadata": {},
     "output_type": "execute_result"
    }
   ],
   "source": [
    "df.shape"
   ]
  },
  {
   "cell_type": "markdown",
   "metadata": {},
   "source": [
    "130K rows, with 13 features.  Great!  Now let's gather the supplementary dataset"
   ]
  },
  {
   "cell_type": "markdown",
   "metadata": {},
   "source": [
    "#### Supplementary Wikipedia dataset ####\n",
    "\n",
    "Wikipedia is a wealth of information, and it does not dissapoint when it comes to information on grape varieties (which will be of important use to use when we [CLEAN and TRANSFORM the data](#clean-xform) below.\n",
    "\n",
    "We will use [BeautifulSoup](https://www.crummy.com/software/BeautifulSoup/) to parse: https://en.wikipedia.org/wiki/List_of_grape_varieties and load it into a Numpy array for use later in this notebook:"
   ]
  },
  {
   "cell_type": "code",
   "execution_count": 4,
   "metadata": {},
   "outputs": [
    {
     "name": "stdout",
     "output_type": "stream",
     "text": [
      "# REDS:  757\n",
      "# WHITES:  608\n",
      "# ROSES:  9\n",
      "# UNKNOWNS:  0\n"
     ]
    }
   ],
   "source": [
    "# Use BeautifulSoup to parse: https://en.wikipedia.org/wiki/List_of_grape_varieties\n",
    "from urllib.request import urlopen\n",
    "from bs4 import BeautifulSoup\n",
    " \n",
    "wikiUrl = \"https://en.wikipedia.org/wiki/List_of_grape_varieties\"\n",
    "wikiPage = urlopen(wikiUrl)\n",
    "\n",
    "soup = BeautifulSoup(wikiPage, \"lxml\")\n",
    "color_tables = soup.find_all(\"table\", attrs={\"class\": \"wikitable\"})\n",
    "\n",
    "reds = []\n",
    "whites = []\n",
    "roses = []\n",
    "unknowns = []\n",
    "\n",
    "for color_table in color_tables:\n",
    "    table_variety = color_table.find_previous_sibling(\"h4\").find(\"span\").text.lower()\n",
    "    tds = color_table.find_all(\"td\")\n",
    "    for td in tds:\n",
    "        links = td.find_all(\"a\", href=lambda xx: xx and '/wiki/' in xx)\n",
    "        for link in links:\n",
    "            if \"red grapes\" == table_variety:\n",
    "                reds.append(link.text.lower())\n",
    "            elif \"white grapes\" == table_variety:\n",
    "                whites.append(link.text.lower())\n",
    "            elif \"rose grapes\" == table_variety:\n",
    "                #roses.append(link.text.lower())\n",
    "                pass\n",
    "            else:\n",
    "                unknowns.append(link.text.lower())\n",
    "\n",
    "# unlinked\n",
    "reds.append(\"Borba\".lower())\n",
    "reds.append(\"Buket\".lower())\n",
    "reds.append(\"Caberinta\".lower())\n",
    "reds.append(\"Caino Bravo\".lower())\n",
    "reds.append(\"Caricagiola\".lower())\n",
    "roses.append(\"Agdam Gyzyl Uzumu\".lower())\n",
    "roses.append(\"Chardonnay Rose\".lower())\n",
    "roses.append(\"Barbera Rose\".lower())\n",
    "roses.append(\"Chablais Blanc\".lower())\n",
    "roses.append(\"Chablais Rose\".lower())\n",
    "roses.append(\"Chablis Blanc\".lower())\n",
    "roses.append(\"Chablis Rose\".lower())\n",
    "roses.append(\"Pink Chablis\".lower())\n",
    "roses.append(\"Rielsing Rose\".lower())\n",
    "\n",
    "print(\"# REDS: \", len(reds))\n",
    "print(\"# WHITES: \", len(whites))\n",
    "print(\"# ROSES: \", len(roses))\n",
    "print(\"# UNKNOWNS: \", len(unknowns))"
   ]
  },
  {
   "cell_type": "markdown",
   "metadata": {},
   "source": [
    "Now that we've successfully gathered our data, let's start assessing it!"
   ]
  },
  {
   "cell_type": "markdown",
   "metadata": {},
   "source": [
    "<a id=\"assess\"></a>"
   ]
  },
  {
   "cell_type": "markdown",
   "metadata": {},
   "source": [
    "### ASSESS the data ###\n"
   ]
  },
  {
   "cell_type": "markdown",
   "metadata": {},
   "source": [
    "We can invoke the \"info\" method to take a closer look at our DataFrame post-read of the CSV:"
   ]
  },
  {
   "cell_type": "code",
   "execution_count": 5,
   "metadata": {},
   "outputs": [
    {
     "name": "stdout",
     "output_type": "stream",
     "text": [
      "<class 'pandas.core.frame.DataFrame'>\n",
      "Int64Index: 129971 entries, 0 to 129970\n",
      "Data columns (total 13 columns):\n",
      "country                  129908 non-null object\n",
      "description              129971 non-null object\n",
      "designation              92506 non-null object\n",
      "points                   129971 non-null int64\n",
      "price                    120975 non-null float64\n",
      "province                 129908 non-null object\n",
      "region_1                 108724 non-null object\n",
      "region_2                 50511 non-null object\n",
      "taster_name              103727 non-null object\n",
      "taster_twitter_handle    98758 non-null object\n",
      "title                    129971 non-null object\n",
      "variety                  129970 non-null object\n",
      "winery                   129971 non-null object\n",
      "dtypes: float64(1), int64(1), object(11)\n",
      "memory usage: 13.9+ MB\n"
     ]
    }
   ],
   "source": [
    "df.info()\n",
    "#df.dtypes"
   ]
  },
  {
   "cell_type": "markdown",
   "metadata": {},
   "source": [
    "We see the auto-assigned data types (inferred by Pandas when reading CSV input - mostly \"object\" in this case), as well as non-NaN counts, and even memory usage."
   ]
  },
  {
   "cell_type": "markdown",
   "metadata": {},
   "source": [
    "Let's check for any duplicates:"
   ]
  },
  {
   "cell_type": "code",
   "execution_count": 6,
   "metadata": {},
   "outputs": [
    {
     "name": "stdout",
     "output_type": "stream",
     "text": [
      "Total number of examples:  129971\n",
      "Number of DUPLICATE examples:  9983\n"
     ]
    }
   ],
   "source": [
    "print(\"Total number of examples: \", df.shape[0])\n",
    "print(\"Number of DUPLICATE examples: \", df[df.duplicated].shape[0])\n",
    "#print(\"Number of examples with the same title and description: \", df[df.duplicated(['description','title'])].shape[0])"
   ]
  },
  {
   "cell_type": "markdown",
   "metadata": {},
   "source": [
    "OK, unfortunately we've got nearly 10K duplicates and we'll want to remove these when we [CLEAN and TRANSFORM the data](#clean-xform) below."
   ]
  },
  {
   "cell_type": "markdown",
   "metadata": {},
   "source": [
    "Let's also check for null/NaN values by column:"
   ]
  },
  {
   "cell_type": "code",
   "execution_count": 7,
   "metadata": {},
   "outputs": [
    {
     "data": {
      "text/plain": [
       "country                     63\n",
       "description                  0\n",
       "designation              37465\n",
       "points                       0\n",
       "price                     8996\n",
       "province                    63\n",
       "region_1                 21247\n",
       "region_2                 79460\n",
       "taster_name              26244\n",
       "taster_twitter_handle    31213\n",
       "title                        0\n",
       "variety                      1\n",
       "winery                       0\n",
       "dtype: int64"
      ]
     },
     "execution_count": 7,
     "metadata": {},
     "output_type": "execute_result"
    }
   ],
   "source": [
    "df.isnull().sum()"
   ]
  },
  {
   "cell_type": "markdown",
   "metadata": {},
   "source": [
    "With respect to null/NaN values, there are some good findings and some bad findings.  It's good that \"points\" has 0 null values, and it's also good that we have no null values for \"description\" and \"title\", while only 1 for \"variety\".  These are important categories, so we're good there.  Unfortunately, \"price\" has far more null values than what we'd expect, and we'll need to make some decisions later on about how to best ***impute*** those missing values.\n",
    "\n",
    "Now, we'll examine the number of unique values per column."
   ]
  },
  {
   "cell_type": "code",
   "execution_count": 8,
   "metadata": {},
   "outputs": [
    {
     "name": "stdout",
     "output_type": "stream",
     "text": [
      "country                      43\n",
      "description              119955\n",
      "designation               37979\n",
      "points                       21\n",
      "price                       390\n",
      "province                    425\n",
      "region_1                   1229\n",
      "region_2                     17\n",
      "taster_name                  19\n",
      "taster_twitter_handle        15\n",
      "title                    118840\n",
      "variety                     707\n",
      "winery                    16757\n",
      "dtype: int64\n"
     ]
    }
   ],
   "source": [
    "print(df.nunique())"
   ]
  },
  {
   "cell_type": "markdown",
   "metadata": {},
   "source": [
    "In this dataset, we're particularly interested in \"variety\" so let's take a closer look."
   ]
  },
  {
   "cell_type": "code",
   "execution_count": 9,
   "metadata": {},
   "outputs": [
    {
     "data": {
      "text/plain": [
       "array(['White Blend', 'Portuguese Red', 'Pinot Gris', ...,\n",
       "       'Gewürztraminer', 'Pinot Gris', 'Gewürztraminer'], dtype=object)"
      ]
     },
     "execution_count": 9,
     "metadata": {},
     "output_type": "execute_result"
    }
   ],
   "source": [
    "df[\"variety\"].values"
   ]
  },
  {
   "cell_type": "markdown",
   "metadata": {},
   "source": [
    "There are too many \"varieties\" to list, so let's narrow it down and check out a few personal favorites (this will also ensure that I can answer my questions about the data related to personal preference)."
   ]
  },
  {
   "cell_type": "code",
   "execution_count": 10,
   "metadata": {},
   "outputs": [
    {
     "data": {
      "text/plain": [
       "True"
      ]
     },
     "execution_count": 10,
     "metadata": {},
     "output_type": "execute_result"
    }
   ],
   "source": [
    "favorites_list = [\"bordeaux\",\"cabernet\",\"malbec\",\"tempranillo\"]\n",
    "varieties_str = ' '.join(df[\"variety\"].astype(str).str.lower().values)\n",
    "any(variety in varieties_str for variety in favorites_list)"
   ]
  },
  {
   "cell_type": "markdown",
   "metadata": {},
   "source": [
    "Great!  Some of my personal favorites are present, as expected (we can never be sure!). Now let's take a look at the \"varieties\" containing these keywords."
   ]
  },
  {
   "cell_type": "code",
   "execution_count": 11,
   "metadata": {},
   "outputs": [
    {
     "data": {
      "text/plain": [
       "array(['Tempranillo-Merlot', 'Cabernet Sauvignon', 'Malbec',\n",
       "       'Tempranillo Blend', 'Bordeaux-style White Blend',\n",
       "       'Cabernet Franc', 'Bordeaux-style Red Blend',\n",
       "       'Shiraz-Cabernet Sauvignon', 'Tannat-Cabernet',\n",
       "       'Cabernet Sauvignon-Syrah', 'Tempranillo',\n",
       "       'Cabernet Sauvignon-Carmenère', 'Merlot-Malbec',\n",
       "       'Cabernet Sauvignon-Merlot', 'Syrah-Cabernet',\n",
       "       'Cabernet Sauvignon-Sangiovese', 'Malbec-Merlot', 'Malbec-Tannat',\n",
       "       'Malbec-Cabernet Franc', 'Cabernet Moravia',\n",
       "       'Cabernet Sauvignon-Shiraz', 'Syrah-Cabernet Sauvignon',\n",
       "       'Cabernet Franc-Cabernet Sauvignon', 'Cabernet Merlot',\n",
       "       'Tempranillo-Cabernet Sauvignon', 'Merlot-Cabernet Franc',\n",
       "       'Cabernet Blend', 'Cabernet Franc-Carmenère',\n",
       "       'Cabernet Sauvignon-Malbec', 'Malbec-Cabernet Sauvignon',\n",
       "       'Cabernet Franc-Merlot', 'Malbec-Syrah',\n",
       "       'Cabernet Sauvignon-Tempranillo', 'Cabernet-Syrah',\n",
       "       'Merlot-Cabernet Sauvignon', 'Sangiovese Cabernet',\n",
       "       'Touriga Nacional-Cabernet Sauvignon',\n",
       "       'Cabernet Sauvignon-Cabernet Franc', 'Tempranillo-Tannat',\n",
       "       'Tempranillo-Garnacha', 'Carmenère-Cabernet Sauvignon', 'Cabernet',\n",
       "       'Syrah-Tempranillo', 'Cabernet Sauvignon-Barbera',\n",
       "       'Merlot-Cabernet', 'Sangiovese-Cabernet Sauvignon',\n",
       "       'Shiraz-Cabernet', 'Malbec-Petit Verdot', 'Tempranillo-Shiraz',\n",
       "       'Cabernet Sauvignon-Merlot-Shiraz', 'Malbec-Cabernet',\n",
       "       'Tempranillo Blanco', 'Tannat-Cabernet Franc',\n",
       "       'Cabernet Franc-Malbec', 'Shiraz-Malbec', 'Tempranillo-Malbec',\n",
       "       'Syrah-Malbec', 'Syrah-Cabernet Franc', 'Malbec-Bonarda',\n",
       "       'Malbec-Carménère', 'Cabernet-Shiraz', 'Malbec Blend',\n",
       "       'Cabernet Pfeffer', 'Garnacha-Tempranillo',\n",
       "       'Cabernet Sauvignon Grenache', 'Tempranillo-Syrah',\n",
       "       'Cabernet-Malbec', 'Shiraz-Tempranillo', 'Malbec-Tempranillo',\n",
       "       'Garnacha-Cabernet', 'Cabernet Franc-Lemberger',\n",
       "       'Bobal-Cabernet Sauvignon'], dtype=object)"
      ]
     },
     "execution_count": 11,
     "metadata": {},
     "output_type": "execute_result"
    }
   ],
   "source": [
    "favorites_filter = df[\"variety\"].astype(str).str.lower().str.contains(\"bordeaux|cabernet|malbec|tempranillo\")\n",
    "df[favorites_filter][\"variety\"].unique()"
   ]
  },
  {
   "cell_type": "markdown",
   "metadata": {},
   "source": [
    "We notice that some of the \"variety\" categories would be more useful if merged. e.g., \"Tempranillo Blend\", \"Tempranillo-Garnacha\", and \"Garnacha-Tempranillo\". We will revisit this shortly in the [CLEAN and TRANSFORM the data](#clean-xform) section below."
   ]
  },
  {
   "cell_type": "markdown",
   "metadata": {},
   "source": [
    "For a broader overview of the data, let's make use of Pandas \"describe\" method.  By default, \"describe\" only provides statistics for numeric data types in the supplied DataFrame.  For us, that is only \"points\" and \"price\"."
   ]
  },
  {
   "cell_type": "code",
   "execution_count": 12,
   "metadata": {},
   "outputs": [
    {
     "data": {
      "text/html": [
       "<div>\n",
       "<style>\n",
       "    .dataframe thead tr:only-child th {\n",
       "        text-align: right;\n",
       "    }\n",
       "\n",
       "    .dataframe thead th {\n",
       "        text-align: left;\n",
       "    }\n",
       "\n",
       "    .dataframe tbody tr th {\n",
       "        vertical-align: top;\n",
       "    }\n",
       "</style>\n",
       "<table border=\"1\" class=\"dataframe\">\n",
       "  <thead>\n",
       "    <tr style=\"text-align: right;\">\n",
       "      <th></th>\n",
       "      <th>points</th>\n",
       "      <th>price</th>\n",
       "    </tr>\n",
       "  </thead>\n",
       "  <tbody>\n",
       "    <tr>\n",
       "      <th>count</th>\n",
       "      <td>129971.000000</td>\n",
       "      <td>120975.000000</td>\n",
       "    </tr>\n",
       "    <tr>\n",
       "      <th>mean</th>\n",
       "      <td>88.447138</td>\n",
       "      <td>35.363389</td>\n",
       "    </tr>\n",
       "    <tr>\n",
       "      <th>std</th>\n",
       "      <td>3.039730</td>\n",
       "      <td>41.022218</td>\n",
       "    </tr>\n",
       "    <tr>\n",
       "      <th>min</th>\n",
       "      <td>80.000000</td>\n",
       "      <td>4.000000</td>\n",
       "    </tr>\n",
       "    <tr>\n",
       "      <th>25%</th>\n",
       "      <td>86.000000</td>\n",
       "      <td>17.000000</td>\n",
       "    </tr>\n",
       "    <tr>\n",
       "      <th>50%</th>\n",
       "      <td>88.000000</td>\n",
       "      <td>25.000000</td>\n",
       "    </tr>\n",
       "    <tr>\n",
       "      <th>75%</th>\n",
       "      <td>91.000000</td>\n",
       "      <td>42.000000</td>\n",
       "    </tr>\n",
       "    <tr>\n",
       "      <th>max</th>\n",
       "      <td>100.000000</td>\n",
       "      <td>3300.000000</td>\n",
       "    </tr>\n",
       "  </tbody>\n",
       "</table>\n",
       "</div>"
      ],
      "text/plain": [
       "              points          price\n",
       "count  129971.000000  120975.000000\n",
       "mean       88.447138      35.363389\n",
       "std         3.039730      41.022218\n",
       "min        80.000000       4.000000\n",
       "25%        86.000000      17.000000\n",
       "50%        88.000000      25.000000\n",
       "75%        91.000000      42.000000\n",
       "max       100.000000    3300.000000"
      ]
     },
     "execution_count": 12,
     "metadata": {},
     "output_type": "execute_result"
    }
   ],
   "source": [
    "df.describe()"
   ]
  },
  {
   "cell_type": "markdown",
   "metadata": {},
   "source": [
    "We observe that the \"point\" scale ranges from 80 to 100 with an IQR (25-75%) range of 86-91, which is reasonable and somewhat expected.  However, \"price\" differs dramatically with our cheapest price at 4.00 and our most expensive at 3300.00 !!  Let's take one more look at our data before we begin to clean it up.  We will invoke \"describe\" once more, but this time we will supply the \"include='all'\" parameter and Transpose the resulting matrix for a more preferrable visualization."
   ]
  },
  {
   "cell_type": "code",
   "execution_count": 13,
   "metadata": {},
   "outputs": [
    {
     "data": {
      "text/html": [
       "<div>\n",
       "<style>\n",
       "    .dataframe thead tr:only-child th {\n",
       "        text-align: right;\n",
       "    }\n",
       "\n",
       "    .dataframe thead th {\n",
       "        text-align: left;\n",
       "    }\n",
       "\n",
       "    .dataframe tbody tr th {\n",
       "        vertical-align: top;\n",
       "    }\n",
       "</style>\n",
       "<table border=\"1\" class=\"dataframe\">\n",
       "  <thead>\n",
       "    <tr style=\"text-align: right;\">\n",
       "      <th></th>\n",
       "      <th>count</th>\n",
       "      <th>unique</th>\n",
       "      <th>top</th>\n",
       "      <th>freq</th>\n",
       "      <th>mean</th>\n",
       "      <th>std</th>\n",
       "      <th>min</th>\n",
       "      <th>25%</th>\n",
       "      <th>50%</th>\n",
       "      <th>75%</th>\n",
       "      <th>max</th>\n",
       "    </tr>\n",
       "  </thead>\n",
       "  <tbody>\n",
       "    <tr>\n",
       "      <th>country</th>\n",
       "      <td>129908</td>\n",
       "      <td>43</td>\n",
       "      <td>US</td>\n",
       "      <td>54504</td>\n",
       "      <td>NaN</td>\n",
       "      <td>NaN</td>\n",
       "      <td>NaN</td>\n",
       "      <td>NaN</td>\n",
       "      <td>NaN</td>\n",
       "      <td>NaN</td>\n",
       "      <td>NaN</td>\n",
       "    </tr>\n",
       "    <tr>\n",
       "      <th>description</th>\n",
       "      <td>129971</td>\n",
       "      <td>119955</td>\n",
       "      <td>Cigar box, café au lait, and dried tobacco aro...</td>\n",
       "      <td>3</td>\n",
       "      <td>NaN</td>\n",
       "      <td>NaN</td>\n",
       "      <td>NaN</td>\n",
       "      <td>NaN</td>\n",
       "      <td>NaN</td>\n",
       "      <td>NaN</td>\n",
       "      <td>NaN</td>\n",
       "    </tr>\n",
       "    <tr>\n",
       "      <th>designation</th>\n",
       "      <td>92506</td>\n",
       "      <td>37979</td>\n",
       "      <td>Reserve</td>\n",
       "      <td>2009</td>\n",
       "      <td>NaN</td>\n",
       "      <td>NaN</td>\n",
       "      <td>NaN</td>\n",
       "      <td>NaN</td>\n",
       "      <td>NaN</td>\n",
       "      <td>NaN</td>\n",
       "      <td>NaN</td>\n",
       "    </tr>\n",
       "    <tr>\n",
       "      <th>points</th>\n",
       "      <td>129971</td>\n",
       "      <td>NaN</td>\n",
       "      <td>NaN</td>\n",
       "      <td>NaN</td>\n",
       "      <td>88.4471</td>\n",
       "      <td>3.03973</td>\n",
       "      <td>80</td>\n",
       "      <td>86</td>\n",
       "      <td>88</td>\n",
       "      <td>91</td>\n",
       "      <td>100</td>\n",
       "    </tr>\n",
       "    <tr>\n",
       "      <th>price</th>\n",
       "      <td>120975</td>\n",
       "      <td>NaN</td>\n",
       "      <td>NaN</td>\n",
       "      <td>NaN</td>\n",
       "      <td>35.3634</td>\n",
       "      <td>41.0222</td>\n",
       "      <td>4</td>\n",
       "      <td>17</td>\n",
       "      <td>25</td>\n",
       "      <td>42</td>\n",
       "      <td>3300</td>\n",
       "    </tr>\n",
       "    <tr>\n",
       "      <th>province</th>\n",
       "      <td>129908</td>\n",
       "      <td>425</td>\n",
       "      <td>California</td>\n",
       "      <td>36247</td>\n",
       "      <td>NaN</td>\n",
       "      <td>NaN</td>\n",
       "      <td>NaN</td>\n",
       "      <td>NaN</td>\n",
       "      <td>NaN</td>\n",
       "      <td>NaN</td>\n",
       "      <td>NaN</td>\n",
       "    </tr>\n",
       "    <tr>\n",
       "      <th>region_1</th>\n",
       "      <td>108724</td>\n",
       "      <td>1229</td>\n",
       "      <td>Napa Valley</td>\n",
       "      <td>4480</td>\n",
       "      <td>NaN</td>\n",
       "      <td>NaN</td>\n",
       "      <td>NaN</td>\n",
       "      <td>NaN</td>\n",
       "      <td>NaN</td>\n",
       "      <td>NaN</td>\n",
       "      <td>NaN</td>\n",
       "    </tr>\n",
       "    <tr>\n",
       "      <th>region_2</th>\n",
       "      <td>50511</td>\n",
       "      <td>17</td>\n",
       "      <td>Central Coast</td>\n",
       "      <td>11065</td>\n",
       "      <td>NaN</td>\n",
       "      <td>NaN</td>\n",
       "      <td>NaN</td>\n",
       "      <td>NaN</td>\n",
       "      <td>NaN</td>\n",
       "      <td>NaN</td>\n",
       "      <td>NaN</td>\n",
       "    </tr>\n",
       "    <tr>\n",
       "      <th>taster_name</th>\n",
       "      <td>103727</td>\n",
       "      <td>19</td>\n",
       "      <td>Roger Voss</td>\n",
       "      <td>25514</td>\n",
       "      <td>NaN</td>\n",
       "      <td>NaN</td>\n",
       "      <td>NaN</td>\n",
       "      <td>NaN</td>\n",
       "      <td>NaN</td>\n",
       "      <td>NaN</td>\n",
       "      <td>NaN</td>\n",
       "    </tr>\n",
       "    <tr>\n",
       "      <th>taster_twitter_handle</th>\n",
       "      <td>98758</td>\n",
       "      <td>15</td>\n",
       "      <td>@vossroger</td>\n",
       "      <td>25514</td>\n",
       "      <td>NaN</td>\n",
       "      <td>NaN</td>\n",
       "      <td>NaN</td>\n",
       "      <td>NaN</td>\n",
       "      <td>NaN</td>\n",
       "      <td>NaN</td>\n",
       "      <td>NaN</td>\n",
       "    </tr>\n",
       "    <tr>\n",
       "      <th>title</th>\n",
       "      <td>129971</td>\n",
       "      <td>118840</td>\n",
       "      <td>Gloria Ferrer NV Sonoma Brut Sparkling (Sonoma...</td>\n",
       "      <td>11</td>\n",
       "      <td>NaN</td>\n",
       "      <td>NaN</td>\n",
       "      <td>NaN</td>\n",
       "      <td>NaN</td>\n",
       "      <td>NaN</td>\n",
       "      <td>NaN</td>\n",
       "      <td>NaN</td>\n",
       "    </tr>\n",
       "    <tr>\n",
       "      <th>variety</th>\n",
       "      <td>129970</td>\n",
       "      <td>707</td>\n",
       "      <td>Pinot Noir</td>\n",
       "      <td>13272</td>\n",
       "      <td>NaN</td>\n",
       "      <td>NaN</td>\n",
       "      <td>NaN</td>\n",
       "      <td>NaN</td>\n",
       "      <td>NaN</td>\n",
       "      <td>NaN</td>\n",
       "      <td>NaN</td>\n",
       "    </tr>\n",
       "    <tr>\n",
       "      <th>winery</th>\n",
       "      <td>129971</td>\n",
       "      <td>16757</td>\n",
       "      <td>Wines &amp; Winemakers</td>\n",
       "      <td>222</td>\n",
       "      <td>NaN</td>\n",
       "      <td>NaN</td>\n",
       "      <td>NaN</td>\n",
       "      <td>NaN</td>\n",
       "      <td>NaN</td>\n",
       "      <td>NaN</td>\n",
       "      <td>NaN</td>\n",
       "    </tr>\n",
       "  </tbody>\n",
       "</table>\n",
       "</div>"
      ],
      "text/plain": [
       "                        count  unique  \\\n",
       "country                129908      43   \n",
       "description            129971  119955   \n",
       "designation             92506   37979   \n",
       "points                 129971     NaN   \n",
       "price                  120975     NaN   \n",
       "province               129908     425   \n",
       "region_1               108724    1229   \n",
       "region_2                50511      17   \n",
       "taster_name            103727      19   \n",
       "taster_twitter_handle   98758      15   \n",
       "title                  129971  118840   \n",
       "variety                129970     707   \n",
       "winery                 129971   16757   \n",
       "\n",
       "                                                                     top  \\\n",
       "country                                                               US   \n",
       "description            Cigar box, café au lait, and dried tobacco aro...   \n",
       "designation                                                      Reserve   \n",
       "points                                                               NaN   \n",
       "price                                                                NaN   \n",
       "province                                                      California   \n",
       "region_1                                                     Napa Valley   \n",
       "region_2                                                   Central Coast   \n",
       "taster_name                                                   Roger Voss   \n",
       "taster_twitter_handle                                         @vossroger   \n",
       "title                  Gloria Ferrer NV Sonoma Brut Sparkling (Sonoma...   \n",
       "variety                                                       Pinot Noir   \n",
       "winery                                                Wines & Winemakers   \n",
       "\n",
       "                        freq     mean      std  min  25%  50%  75%   max  \n",
       "country                54504      NaN      NaN  NaN  NaN  NaN  NaN   NaN  \n",
       "description                3      NaN      NaN  NaN  NaN  NaN  NaN   NaN  \n",
       "designation             2009      NaN      NaN  NaN  NaN  NaN  NaN   NaN  \n",
       "points                   NaN  88.4471  3.03973   80   86   88   91   100  \n",
       "price                    NaN  35.3634  41.0222    4   17   25   42  3300  \n",
       "province               36247      NaN      NaN  NaN  NaN  NaN  NaN   NaN  \n",
       "region_1                4480      NaN      NaN  NaN  NaN  NaN  NaN   NaN  \n",
       "region_2               11065      NaN      NaN  NaN  NaN  NaN  NaN   NaN  \n",
       "taster_name            25514      NaN      NaN  NaN  NaN  NaN  NaN   NaN  \n",
       "taster_twitter_handle  25514      NaN      NaN  NaN  NaN  NaN  NaN   NaN  \n",
       "title                     11      NaN      NaN  NaN  NaN  NaN  NaN   NaN  \n",
       "variety                13272      NaN      NaN  NaN  NaN  NaN  NaN   NaN  \n",
       "winery                   222      NaN      NaN  NaN  NaN  NaN  NaN   NaN  "
      ]
     },
     "execution_count": 13,
     "metadata": {},
     "output_type": "execute_result"
    }
   ],
   "source": [
    "df.describe(include=\"all\").T"
   ]
  },
  {
   "cell_type": "markdown",
   "metadata": {},
   "source": [
    "We observe some new information; e.g., top values for each column; top country is \"US\", top variety is \"Pinot Noir\", etc...  "
   ]
  },
  {
   "cell_type": "markdown",
   "metadata": {},
   "source": [
    "Without jumping into the analysis phase, let's take a look at the 2 variables that we are most concerned about: \"points\" (the dependent variable for much of our analysis) and \"price\".  It's fairly common to plot a histogram for each:"
   ]
  },
  {
   "cell_type": "code",
   "execution_count": 14,
   "metadata": {},
   "outputs": [
    {
     "data": {
      "text/plain": [
       "<matplotlib.axes._subplots.AxesSubplot at 0x7f9cd129acc0>"
      ]
     },
     "execution_count": 14,
     "metadata": {},
     "output_type": "execute_result"
    },
    {
     "data": {
      "image/png": "[encoded data removed]",
      "text/plain": [
       "<matplotlib.figure.Figure at 0x7f9cd1a16f60>"
      ]
     },
     "metadata": {},
     "output_type": "display_data"
    }
   ],
   "source": [
    "df['points'].plot.hist()"
   ]
  },
  {
   "cell_type": "markdown",
   "metadata": {},
   "source": [
    "The \"points\" variable looks like a fairly normal distribution; that's good.  If we want, we can also take a look at the histogram using relative frequency:"
   ]
  },
  {
   "cell_type": "code",
   "execution_count": 15,
   "metadata": {},
   "outputs": [
    {
     "data": {
      "text/plain": [
       "<matplotlib.axes._subplots.AxesSubplot at 0x7f9cd1281780>"
      ]
     },
     "execution_count": 15,
     "metadata": {},
     "output_type": "execute_result"
    },
    {
     "data": {
      "image/png": "[encoded data removed]",
      "text/plain": [
       "<matplotlib.figure.Figure at 0x7f9cd0475748>"
      ]
     },
     "metadata": {},
     "output_type": "display_data"
    }
   ],
   "source": [
    "sns.distplot(df[\"points\"])#, kde=False)"
   ]
  },
  {
   "cell_type": "markdown",
   "metadata": {},
   "source": [
    "While we can typically eyeball the \"skewness\", it's helpful to also calculate the statistics; \"kurtosis\" as a measurement of the presence of outliers (see: https://en.wikipedia.org/wiki/Kurtosis). A normal distribution exhibits a skew of ~0 and a kurtosis of ~3.  Large values of kurtosis indicate outliers (and negative kurtosis indicates a flatter than normal distribution)"
   ]
  },
  {
   "cell_type": "code",
   "execution_count": 16,
   "metadata": {},
   "outputs": [
    {
     "name": "stdout",
     "output_type": "stream",
     "text": [
      "Skewness: 0.045921\n",
      "Kurtosis: -0.295963\n"
     ]
    }
   ],
   "source": [
    "print(\"Skewness: %f\" % df[\"points\"].skew())\n",
    "print(\"Kurtosis: %f\" % df[\"points\"].kurt())"
   ]
  },
  {
   "cell_type": "markdown",
   "metadata": {},
   "source": [
    "Now let's check \"price\", and let's ignore the null/NaN values:"
   ]
  },
  {
   "cell_type": "code",
   "execution_count": 17,
   "metadata": {},
   "outputs": [
    {
     "data": {
      "text/plain": [
       "<matplotlib.axes._subplots.AxesSubplot at 0x7f9cd10359e8>"
      ]
     },
     "execution_count": 17,
     "metadata": {},
     "output_type": "execute_result"
    },
    {
     "data": {
      "image/png": "[encoded data removed]",
      "text/plain": [
       "<matplotlib.figure.Figure at 0x7f9cd04f1240>"
      ]
     },
     "metadata": {},
     "output_type": "display_data"
    }
   ],
   "source": [
    "# we want to ignore the NaNs for our assessment; later we will decide how to impute\n",
    "sns.distplot(df[np.isfinite(df[\"price\"])][\"price\"])"
   ]
  },
  {
   "cell_type": "code",
   "execution_count": 18,
   "metadata": {},
   "outputs": [
    {
     "name": "stdout",
     "output_type": "stream",
     "text": [
      "Skewness: 18.000957\n",
      "Kurtosis: 829.520182\n"
     ]
    }
   ],
   "source": [
    "print(\"Skewness: %f\" % df[\"price\"].skew())\n",
    "print(\"Kurtosis: %f\" % df[\"price\"].kurt())"
   ]
  },
  {
   "cell_type": "markdown",
   "metadata": {},
   "source": [
    "For \"price\", it's easy to see the postive skewness and the kurtosis statistic is very large (indicating that there are significant outliers).  We will revisit this shortly below when we remove outliers.\n",
    "\n",
    "NOTE: In case of positive (right) skewness, log transformations may be applicable"
   ]
  },
  {
   "cell_type": "markdown",
   "metadata": {},
   "source": [
    "Great! Now that we have a basic assessment of our data, and we have some ideas about of what sorts of changes should be made, let's proceed to \"clean\" and \"transform\" our data."
   ]
  },
  {
   "cell_type": "markdown",
   "metadata": {},
   "source": [
    "<a id=\"clean-xform\"></a>"
   ]
  },
  {
   "cell_type": "markdown",
   "metadata": {},
   "source": [
    "### CLEAN and TRANSFORM the data ###\n",
    "\n",
    " 1. Drop duplicates\n",
    " 1. Handle (impute, in our case) missing values\n",
    " 1. Remove Outliers\n",
    " 1. Standardize/Normalize values\n",
    " 1. Merge \"variety\" values\n",
    " 1. Create a new \"color\" feature"
   ]
  },
  {
   "cell_type": "markdown",
   "metadata": {},
   "source": [
    "#### Drop duplicates ####"
   ]
  },
  {
   "cell_type": "code",
   "execution_count": 19,
   "metadata": {
    "collapsed": true
   },
   "outputs": [],
   "source": [
    "df=df.drop_duplicates()\n",
    "df=df.reset_index(drop=True)\n",
    "assert(df[df.duplicated].shape[0]==0)"
   ]
  },
  {
   "cell_type": "markdown",
   "metadata": {},
   "source": [
    "#### Drop NaN/null \"variety\" values ####"
   ]
  },
  {
   "cell_type": "code",
   "execution_count": 20,
   "metadata": {
    "collapsed": true
   },
   "outputs": [],
   "source": [
    "df.dropna(subset=[\"variety\"], inplace=True)\n",
    "assert(df[\"variety\"].isnull().sum()==0)"
   ]
  },
  {
   "cell_type": "markdown",
   "metadata": {},
   "source": [
    "#### Handle (impute) missing \"price\" values ####"
   ]
  },
  {
   "cell_type": "code",
   "execution_count": 21,
   "metadata": {
    "collapsed": true
   },
   "outputs": [],
   "source": [
    "df[\"price\"] = df[\"price\"].transform(lambda xx: xx.fillna(xx.mean()))\n",
    "assert(df[\"price\"].isnull().sum()==0)"
   ]
  },
  {
   "cell_type": "markdown",
   "metadata": {},
   "source": [
    "PS: For Time Series data, we could have chosen the \"method\" attribute in the \"fillna\" method to be \"bfill\" (backward fill) or \"ffill\" (forward fill) to populate the missing value with the preceding or following value respectively.  There also more complex fill techniques which could be implemented, like filling with the \"mean\" for that values respective \"variety\" or \"price\" (or any combination of values present in our dataset, or even external).\n",
    "\n",
    "PSS: For this dataset, we'll elect to fill only missing values in the \"price\" column.  This is the only column having numeric values and nulls/NaNs, but if we wanted to fill the others with some \"string\" value, then we could certainly choose to do so."
   ]
  },
  {
   "cell_type": "markdown",
   "metadata": {},
   "source": [
    "Before removing our outliers, a quick pairplot helps us to visualize the relationship between our 2 numeric features: \"points\" and \"price\":"
   ]
  },
  {
   "cell_type": "code",
   "execution_count": 22,
   "metadata": {
    "scrolled": true
   },
   "outputs": [
    {
     "data": {
      "text/plain": [
       "<seaborn.axisgrid.PairGrid at 0x7f9cd08ec2e8>"
      ]
     },
     "execution_count": 22,
     "metadata": {},
     "output_type": "execute_result"
    },
    {
     "data": {
      "image/png": "[encoded data removed]",
      "text/plain": [
       "<matplotlib.figure.Figure at 0x7f9cd1a16be0>"
      ]
     },
     "metadata": {},
     "output_type": "display_data"
    }
   ],
   "source": [
    "sns.pairplot(df[[\"points\",\"price\"]])"
   ]
  },
  {
   "cell_type": "markdown",
   "metadata": {},
   "source": [
    "#### Remove Outliers ####"
   ]
  },
  {
   "cell_type": "code",
   "execution_count": 23,
   "metadata": {
    "collapsed": true
   },
   "outputs": [],
   "source": [
    "def remove_outliers_by_col(df, col, min_zero=True, inplace=False):\n",
    "    Q1 = df[col].quantile(0.25)\n",
    "    Q3 = df[col].quantile(0.75)\n",
    "    # for more on IQR, see: https://en.wikipedia.org/wiki/Interquartile_range\n",
    "    IQR = Q3 - Q1\n",
    "    # calculate the maximum value and minimum values according to the Tukey rule\n",
    "    max_value = Q3 + 1.5 * IQR\n",
    "    min_value = Q1 - 1.5 * IQR\n",
    "    if min_zero is True:\n",
    "        # set a floor at zero\n",
    "        min_value = max(min_value,0)\n",
    "    # filter the data for price values that are greater than max_value or less than min_value (inclusive)\n",
    "    filtered = (df[col] <= max_value) & (df[col] >= min_value)\n",
    "    if inplace is True:\n",
    "        df = df[filtered]\n",
    "        return df\n",
    "    else:\n",
    "        tmp_df = df.copy()\n",
    "        tmp_df = df[filtered]\n",
    "        return tmp_df"
   ]
  },
  {
   "cell_type": "code",
   "execution_count": 24,
   "metadata": {},
   "outputs": [
    {
     "name": "stdout",
     "output_type": "stream",
     "text": [
      "8558 outliers removed\n"
     ]
    }
   ],
   "source": [
    "prior_count = df.shape[0]\n",
    "df = remove_outliers_by_col(df,\"price\")\n",
    "curr_count = df.shape[0]\n",
    "if curr_count < prior_count:\n",
    "    print(prior_count - curr_count, \"outliers removed\")"
   ]
  },
  {
   "cell_type": "code",
   "execution_count": 25,
   "metadata": {},
   "outputs": [
    {
     "name": "stdout",
     "output_type": "stream",
     "text": [
      "Skewness: 0.793854\n",
      "Kurtosis: -0.024412\n"
     ]
    }
   ],
   "source": [
    "print(\"Skewness: %f\" % df[\"price\"].skew())\n",
    "print(\"Kurtosis: %f\" % df[\"price\"].kurt())"
   ]
  },
  {
   "cell_type": "markdown",
   "metadata": {},
   "source": [
    "What a dramatic difference it makes to remove the outliers per the [IQR](https://en.wikipedia.org/wiki/Interquartile_range) method!"
   ]
  },
  {
   "cell_type": "markdown",
   "metadata": {},
   "source": [
    "#### Standardize values ####"
   ]
  },
  {
   "cell_type": "markdown",
   "metadata": {},
   "source": [
    "Standardization refers to the process of subtracting the mean and dividing by the standard deviation. It will reset your distribution to be \"normal\" (having a mean of ~0 and a std. dev of ~1).\n",
    "\n",
    "It is good practice to standardize values; it allows you to compare multiple variables according to the same scale, and more importantly it will most often yield better results when training shallow (e.g., Decision Tree) or deep (e.g., Neural Net) models."
   ]
  },
  {
   "cell_type": "code",
   "execution_count": 26,
   "metadata": {},
   "outputs": [
    {
     "data": {
      "text/plain": [
       "count    111429.000000\n",
       "mean         88.164329\n",
       "std           2.942906\n",
       "min          80.000000\n",
       "25%          86.000000\n",
       "50%          88.000000\n",
       "75%          90.000000\n",
       "max          99.000000\n",
       "Name: points, dtype: float64"
      ]
     },
     "execution_count": 26,
     "metadata": {},
     "output_type": "execute_result"
    }
   ],
   "source": [
    "df[\"points\"].describe()"
   ]
  },
  {
   "cell_type": "code",
   "execution_count": 27,
   "metadata": {
    "collapsed": true
   },
   "outputs": [],
   "source": [
    "def standardize_by_col(df, col, inplace=False):\n",
    "    standardized = (df[col] - np.mean(df[col])) / np.std(df[col])\n",
    "    if inplace is True:\n",
    "        df[col] = standardized\n",
    "        return df\n",
    "    else:\n",
    "        tmp_df = df.copy()\n",
    "        tmp_df[str(col+\"_standardized\")] = standardized\n",
    "        return tmp_df"
   ]
  },
  {
   "cell_type": "code",
   "execution_count": 28,
   "metadata": {},
   "outputs": [
    {
     "data": {
      "text/plain": [
       "count    1.114290e+05\n",
       "mean    -2.803550e-16\n",
       "std      1.000004e+00\n",
       "min     -2.774253e+00\n",
       "25%     -7.354427e-01\n",
       "50%     -5.583923e-02\n",
       "75%      6.237642e-01\n",
       "max      3.681980e+00\n",
       "Name: points_standardized, dtype: float64"
      ]
     },
     "execution_count": 28,
     "metadata": {},
     "output_type": "execute_result"
    }
   ],
   "source": [
    "df = standardize_by_col(df, \"points\")\n",
    "df[\"points_standardized\"].describe()"
   ]
  },
  {
   "cell_type": "code",
   "execution_count": 29,
   "metadata": {},
   "outputs": [
    {
     "data": {
      "text/html": [
       "<div>\n",
       "<style>\n",
       "    .dataframe thead tr:only-child th {\n",
       "        text-align: right;\n",
       "    }\n",
       "\n",
       "    .dataframe thead th {\n",
       "        text-align: left;\n",
       "    }\n",
       "\n",
       "    .dataframe tbody tr th {\n",
       "        vertical-align: top;\n",
       "    }\n",
       "</style>\n",
       "<table border=\"1\" class=\"dataframe\">\n",
       "  <thead>\n",
       "    <tr style=\"text-align: right;\">\n",
       "      <th></th>\n",
       "      <th>points</th>\n",
       "      <th>points_standardized</th>\n",
       "      <th>price</th>\n",
       "      <th>price_standardized</th>\n",
       "    </tr>\n",
       "  </thead>\n",
       "  <tbody>\n",
       "    <tr>\n",
       "      <th>0</th>\n",
       "      <td>87</td>\n",
       "      <td>-0.395641</td>\n",
       "      <td>35.620914</td>\n",
       "      <td>0.454690</td>\n",
       "    </tr>\n",
       "    <tr>\n",
       "      <th>1</th>\n",
       "      <td>87</td>\n",
       "      <td>-0.395641</td>\n",
       "      <td>15.000000</td>\n",
       "      <td>-0.942420</td>\n",
       "    </tr>\n",
       "    <tr>\n",
       "      <th>2</th>\n",
       "      <td>87</td>\n",
       "      <td>-0.395641</td>\n",
       "      <td>14.000000</td>\n",
       "      <td>-1.010172</td>\n",
       "    </tr>\n",
       "    <tr>\n",
       "      <th>3</th>\n",
       "      <td>87</td>\n",
       "      <td>-0.395641</td>\n",
       "      <td>13.000000</td>\n",
       "      <td>-1.077924</td>\n",
       "    </tr>\n",
       "    <tr>\n",
       "      <th>4</th>\n",
       "      <td>87</td>\n",
       "      <td>-0.395641</td>\n",
       "      <td>65.000000</td>\n",
       "      <td>2.445185</td>\n",
       "    </tr>\n",
       "  </tbody>\n",
       "</table>\n",
       "</div>"
      ],
      "text/plain": [
       "   points  points_standardized      price  price_standardized\n",
       "0      87            -0.395641  35.620914            0.454690\n",
       "1      87            -0.395641  15.000000           -0.942420\n",
       "2      87            -0.395641  14.000000           -1.010172\n",
       "3      87            -0.395641  13.000000           -1.077924\n",
       "4      87            -0.395641  65.000000            2.445185"
      ]
     },
     "execution_count": 29,
     "metadata": {},
     "output_type": "execute_result"
    }
   ],
   "source": [
    "df = standardize_by_col(df, \"price\")\n",
    "df[[\"points\",\"points_standardized\",\"price\",\"price_standardized\"]].head()"
   ]
  },
  {
   "cell_type": "markdown",
   "metadata": {},
   "source": [
    "#### Create a new \"type\" feature ####"
   ]
  },
  {
   "cell_type": "markdown",
   "metadata": {},
   "source": [
    "Feature engineering is the process of using domain knowledge of the data to create new features (for more on this see: https://en.wikipedia.org/wiki/Feature_engineering).  In our case, we'd like to add a common category for describing wine: \"type\".  When thinking about types of wines, most people immediately think about color: \"Red\" vs. \"White\", or \"Rose\".  However, our dataset also includes a significant amount of entries that can be classified in the \"Sparkling\" category.  Here is where we make use of the Wikipedia data that we have previously gathered:"
   ]
  },
  {
   "cell_type": "code",
   "execution_count": 30,
   "metadata": {
    "collapsed": true
   },
   "outputs": [],
   "source": [
    "# varities, used to map values in Kaggle dataset which do not match Wiki varieties per color OR are present in combination varieties\n",
    "white_varieties = [\"chardonnay\",\"riesling\",\"sauvignon blanc\",\"sauvignon\",\"prosecco\",\"vermentino\",\"turbiana\",\"assyrtico\",\"carricante\",\"insolia\",\"zibibbo\",\"loureiro\",\"tokaji\",\"muskat ottonel\",\"xarel-lo\",\"antão vaz\",\"siria\",\"vidal\",\"vignoles\",\"pinot gris\",\"pedro ximénez\",\"arinto\",\"fernão pires\",\"müller-thurgau\",\"loin de l'oeil\",\"traminette\"]\n",
    "red_varieties = [\"pinot noir\",\"cabernet sauvignon\",\"merlot\",\"tempranillo\",'barbera', 'port','grenache', 'tempranillo blend', 'garnacha',\"pinot nero\",\"pinotage\",\"cabernet sauvignon-merlot\",\"cabernet sauvignon-syrah\",\"malbec-merlot\",\"tinto fino\",\"tinta fina\",\"tinta de toro\",\"carmenère\",\"g-s-m\",\"mencía\",\"cabernet\",\"alicante bouschet\",\"prugnolo gentile\",\"cinsault\",\"lemberger\",\"claret\",\"petite verdot\",\"nero di troia\",\"plavac mali\",\"negrette\",\"norton\",\"carignan\"]\n",
    "# keywords, used when parsing \"description\"\n",
    "sparkling_keywords = [\"sparkling\",\"champagne\",\"brut\"]\n",
    "rose_keywords = [\"rose\",\"rosé\",\"rosato\",\"rosado\"]\n",
    "white_keywords = [\"blanc\",\"blanco\",\"blanca\",\"white\",\"champagne\",\"sherry\"]\n",
    "red_keywords = [\"red\",\"tinto\",\"tinta\",\"cabernet\",\"bordeaux\",\"malbec\",\"tempranillo\",\"grenache\",\"syrah\",\"shiraz\",\"dark\",\"cherry\",\"blackberry\"]"
   ]
  },
  {
   "cell_type": "code",
   "execution_count": 31,
   "metadata": {
    "collapsed": true
   },
   "outputs": [],
   "source": [
    "def map_val(val):\n",
    "    if isinstance(val, str):\n",
    "        val = val.lower()\n",
    "        if any(keyword in val for keyword in sparkling_keywords):\n",
    "            return \"Sparkling\"\n",
    "        if any(keyword in val for keyword in rose_keywords):\n",
    "            return \"Rose\"\n",
    "        if any(keyword in val for keyword in white_keywords):\n",
    "            return \"White\"\n",
    "        if any(keyword in val for keyword in red_keywords):\n",
    "            return \"Red\"\n",
    "        return \"Unknown\"\n",
    "    return \"Unknown\""
   ]
  },
  {
   "cell_type": "code",
   "execution_count": 32,
   "metadata": {
    "collapsed": true
   },
   "outputs": [],
   "source": [
    "def map_unknown_varieties(variety, title, description):\n",
    "    if any(_variety in variety for _variety in white_varieties):\n",
    "        return \"White\"\n",
    "    if any(_variety in variety for _variety in red_varieties):\n",
    "        return \"Red\"\n",
    "    if any(keyword in variety for keyword in sparkling_keywords):\n",
    "        return \"Sparkling\"\n",
    "    if any(keyword in variety for keyword in rose_keywords):\n",
    "        return \"Rose\"\n",
    "    if any(keyword in variety for keyword in white_keywords):\n",
    "        return \"White\"\n",
    "    if any(keyword in variety for keyword in red_keywords):\n",
    "        return \"Red\"\n",
    "    title_mapping = map_val(title)\n",
    "    if title_mapping is not \"Unknown\":\n",
    "        return title_mapping\n",
    "    description_mapping = map_val(description)\n",
    "    if description_mapping is not \"Unknown\":\n",
    "        return description_mapping\n",
    "    return \"Unknown\""
   ]
  },
  {
   "cell_type": "code",
   "execution_count": 33,
   "metadata": {
    "collapsed": true
   },
   "outputs": [],
   "source": [
    "def determine_color(variety, title, description):\n",
    "    #is_red = False\n",
    "    #is_white = False\n",
    "    #is_rose = False\n",
    "    #is_sparkling = False\n",
    "    is_red = is_white = is_rose = is_sparkling = None\n",
    "    variety = variety.lower()\n",
    "    for rose in roses:                \n",
    "        if rose in variety or variety in rose:\n",
    "            is_rose = True\n",
    "    for white in whites:\n",
    "        if white in variety or variety in white:\n",
    "            is_white = True\n",
    "    for red in reds:               \n",
    "        if red in variety or variety in red:\n",
    "            is_red = True\n",
    "    # variety should only match a single \"color\", but with the keywords there is sometimes overlap (so invoke \"map_unknown_varieties\")\n",
    "    if is_red and not is_white and not is_rose and not is_sparkling:\n",
    "        return \"Red\"\n",
    "    elif not is_red and is_white and not is_rose and not is_sparkling:\n",
    "        return \"White\"\n",
    "    elif not is_red and not is_white and is_rose and not is_sparkling:\n",
    "        return \"Rose\"\n",
    "    elif not is_red and not is_white and not is_rose and is_sparkling:\n",
    "        return \"Sparkling\"\n",
    "    else:\n",
    "        return map_unknown_varieties(variety, title, description)"
   ]
  },
  {
   "cell_type": "code",
   "execution_count": 34,
   "metadata": {
    "scrolled": false
   },
   "outputs": [
    {
     "data": {
      "text/html": [
       "<div>\n",
       "<style>\n",
       "    .dataframe thead tr:only-child th {\n",
       "        text-align: right;\n",
       "    }\n",
       "\n",
       "    .dataframe thead th {\n",
       "        text-align: left;\n",
       "    }\n",
       "\n",
       "    .dataframe tbody tr th {\n",
       "        vertical-align: top;\n",
       "    }\n",
       "</style>\n",
       "<table border=\"1\" class=\"dataframe\">\n",
       "  <thead>\n",
       "    <tr style=\"text-align: right;\">\n",
       "      <th></th>\n",
       "      <th>country</th>\n",
       "      <th>description</th>\n",
       "      <th>designation</th>\n",
       "      <th>points</th>\n",
       "      <th>price</th>\n",
       "      <th>province</th>\n",
       "      <th>region_1</th>\n",
       "      <th>region_2</th>\n",
       "      <th>taster_name</th>\n",
       "      <th>taster_twitter_handle</th>\n",
       "      <th>title</th>\n",
       "      <th>variety</th>\n",
       "      <th>winery</th>\n",
       "      <th>points_standardized</th>\n",
       "      <th>price_standardized</th>\n",
       "      <th>type</th>\n",
       "    </tr>\n",
       "  </thead>\n",
       "  <tbody>\n",
       "    <tr>\n",
       "      <th>0</th>\n",
       "      <td>Italy</td>\n",
       "      <td>Aromas include tropical fruit, broom, brimston...</td>\n",
       "      <td>Vulkà Bianco</td>\n",
       "      <td>87</td>\n",
       "      <td>35.620914</td>\n",
       "      <td>Sicily &amp; Sardinia</td>\n",
       "      <td>Etna</td>\n",
       "      <td>NaN</td>\n",
       "      <td>Kerin O’Keefe</td>\n",
       "      <td>@kerinokeefe</td>\n",
       "      <td>Nicosia 2013 Vulkà Bianco  (Etna)</td>\n",
       "      <td>White Blend</td>\n",
       "      <td>Nicosia</td>\n",
       "      <td>-0.395641</td>\n",
       "      <td>0.454690</td>\n",
       "      <td>White</td>\n",
       "    </tr>\n",
       "    <tr>\n",
       "      <th>1</th>\n",
       "      <td>Portugal</td>\n",
       "      <td>This is ripe and fruity, a wine that is smooth...</td>\n",
       "      <td>Avidagos</td>\n",
       "      <td>87</td>\n",
       "      <td>15.000000</td>\n",
       "      <td>Douro</td>\n",
       "      <td>NaN</td>\n",
       "      <td>NaN</td>\n",
       "      <td>Roger Voss</td>\n",
       "      <td>@vossroger</td>\n",
       "      <td>Quinta dos Avidagos 2011 Avidagos Red (Douro)</td>\n",
       "      <td>Portuguese Red</td>\n",
       "      <td>Quinta dos Avidagos</td>\n",
       "      <td>-0.395641</td>\n",
       "      <td>-0.942420</td>\n",
       "      <td>Red</td>\n",
       "    </tr>\n",
       "    <tr>\n",
       "      <th>2</th>\n",
       "      <td>US</td>\n",
       "      <td>Tart and snappy, the flavors of lime flesh and...</td>\n",
       "      <td>NaN</td>\n",
       "      <td>87</td>\n",
       "      <td>14.000000</td>\n",
       "      <td>Oregon</td>\n",
       "      <td>Willamette Valley</td>\n",
       "      <td>Willamette Valley</td>\n",
       "      <td>Paul Gregutt</td>\n",
       "      <td>@paulgwine</td>\n",
       "      <td>Rainstorm 2013 Pinot Gris (Willamette Valley)</td>\n",
       "      <td>Pinot Gris</td>\n",
       "      <td>Rainstorm</td>\n",
       "      <td>-0.395641</td>\n",
       "      <td>-1.010172</td>\n",
       "      <td>White</td>\n",
       "    </tr>\n",
       "    <tr>\n",
       "      <th>3</th>\n",
       "      <td>US</td>\n",
       "      <td>Pineapple rind, lemon pith and orange blossom ...</td>\n",
       "      <td>Reserve Late Harvest</td>\n",
       "      <td>87</td>\n",
       "      <td>13.000000</td>\n",
       "      <td>Michigan</td>\n",
       "      <td>Lake Michigan Shore</td>\n",
       "      <td>NaN</td>\n",
       "      <td>Alexander Peartree</td>\n",
       "      <td>NaN</td>\n",
       "      <td>St. Julian 2013 Reserve Late Harvest Riesling ...</td>\n",
       "      <td>Riesling</td>\n",
       "      <td>St. Julian</td>\n",
       "      <td>-0.395641</td>\n",
       "      <td>-1.077924</td>\n",
       "      <td>White</td>\n",
       "    </tr>\n",
       "    <tr>\n",
       "      <th>4</th>\n",
       "      <td>US</td>\n",
       "      <td>Much like the regular bottling from 2012, this...</td>\n",
       "      <td>Vintner's Reserve Wild Child Block</td>\n",
       "      <td>87</td>\n",
       "      <td>65.000000</td>\n",
       "      <td>Oregon</td>\n",
       "      <td>Willamette Valley</td>\n",
       "      <td>Willamette Valley</td>\n",
       "      <td>Paul Gregutt</td>\n",
       "      <td>@paulgwine</td>\n",
       "      <td>Sweet Cheeks 2012 Vintner's Reserve Wild Child...</td>\n",
       "      <td>Pinot Noir</td>\n",
       "      <td>Sweet Cheeks</td>\n",
       "      <td>-0.395641</td>\n",
       "      <td>2.445185</td>\n",
       "      <td>Red</td>\n",
       "    </tr>\n",
       "  </tbody>\n",
       "</table>\n",
       "</div>"
      ],
      "text/plain": [
       "    country                                        description  \\\n",
       "0     Italy  Aromas include tropical fruit, broom, brimston...   \n",
       "1  Portugal  This is ripe and fruity, a wine that is smooth...   \n",
       "2        US  Tart and snappy, the flavors of lime flesh and...   \n",
       "3        US  Pineapple rind, lemon pith and orange blossom ...   \n",
       "4        US  Much like the regular bottling from 2012, this...   \n",
       "\n",
       "                          designation  points      price           province  \\\n",
       "0                        Vulkà Bianco      87  35.620914  Sicily & Sardinia   \n",
       "1                            Avidagos      87  15.000000              Douro   \n",
       "2                                 NaN      87  14.000000             Oregon   \n",
       "3                Reserve Late Harvest      87  13.000000           Michigan   \n",
       "4  Vintner's Reserve Wild Child Block      87  65.000000             Oregon   \n",
       "\n",
       "              region_1           region_2         taster_name  \\\n",
       "0                 Etna                NaN       Kerin O’Keefe   \n",
       "1                  NaN                NaN          Roger Voss   \n",
       "2    Willamette Valley  Willamette Valley        Paul Gregutt   \n",
       "3  Lake Michigan Shore                NaN  Alexander Peartree   \n",
       "4    Willamette Valley  Willamette Valley        Paul Gregutt   \n",
       "\n",
       "  taster_twitter_handle                                              title  \\\n",
       "0          @kerinokeefe                  Nicosia 2013 Vulkà Bianco  (Etna)   \n",
       "1            @vossroger      Quinta dos Avidagos 2011 Avidagos Red (Douro)   \n",
       "2           @paulgwine       Rainstorm 2013 Pinot Gris (Willamette Valley)   \n",
       "3                   NaN  St. Julian 2013 Reserve Late Harvest Riesling ...   \n",
       "4           @paulgwine   Sweet Cheeks 2012 Vintner's Reserve Wild Child...   \n",
       "\n",
       "          variety               winery  points_standardized  \\\n",
       "0     White Blend              Nicosia            -0.395641   \n",
       "1  Portuguese Red  Quinta dos Avidagos            -0.395641   \n",
       "2      Pinot Gris            Rainstorm            -0.395641   \n",
       "3        Riesling           St. Julian            -0.395641   \n",
       "4      Pinot Noir         Sweet Cheeks            -0.395641   \n",
       "\n",
       "   price_standardized   type  \n",
       "0            0.454690  White  \n",
       "1           -0.942420    Red  \n",
       "2           -1.010172  White  \n",
       "3           -1.077924  White  \n",
       "4            2.445185    Red  "
      ]
     },
     "execution_count": 34,
     "metadata": {},
     "output_type": "execute_result"
    }
   ],
   "source": [
    "df[\"type\"] = df.apply(lambda row: determine_color(row.variety, row.title, row.description), axis=1)\n",
    "df.head()"
   ]
  },
  {
   "cell_type": "code",
   "execution_count": 35,
   "metadata": {},
   "outputs": [
    {
     "name": "stdout",
     "output_type": "stream",
     "text": [
      "# REDS:  60221\n",
      "# WHITE:  44604\n",
      "# ROSE:  3417\n",
      "# SPARKLING:  2919\n",
      "# UNKNOWN:  268\n"
     ]
    }
   ],
   "source": [
    "print(\"# REDS: \", df[df[\"type\"]==\"Red\"].shape[0])\n",
    "print(\"# WHITE: \", df[df[\"type\"]==\"White\"].shape[0])\n",
    "print(\"# ROSE: \", df[df[\"type\"]==\"Rose\"].shape[0])\n",
    "print(\"# SPARKLING: \", df[df[\"type\"]==\"Sparkling\"].shape[0])\n",
    "print(\"# UNKNOWN: \", df[df[\"type\"]==\"Unknown\"].shape[0])"
   ]
  },
  {
   "cell_type": "markdown",
   "metadata": {},
   "source": [
    "With the help of the Wikipedia data (~1300 unique categories), we were able classify nearly all our 130K entries (representing ~700 unique categories). This is a good result, and we will move forward with this data as we transition to the analysis phase.\n",
    "\n",
    "Let's take a quick look at some examples that we were unable to properly classify:"
   ]
  },
  {
   "cell_type": "code",
   "execution_count": 36,
   "metadata": {
    "scrolled": false
   },
   "outputs": [
    {
     "data": {
      "text/html": [
       "<div>\n",
       "<style>\n",
       "    .dataframe thead tr:only-child th {\n",
       "        text-align: right;\n",
       "    }\n",
       "\n",
       "    .dataframe thead th {\n",
       "        text-align: left;\n",
       "    }\n",
       "\n",
       "    .dataframe tbody tr th {\n",
       "        vertical-align: top;\n",
       "    }\n",
       "</style>\n",
       "<table border=\"1\" class=\"dataframe\">\n",
       "  <thead>\n",
       "    <tr style=\"text-align: right;\">\n",
       "      <th></th>\n",
       "      <th>country</th>\n",
       "      <th>description</th>\n",
       "      <th>designation</th>\n",
       "      <th>points</th>\n",
       "      <th>price</th>\n",
       "      <th>province</th>\n",
       "      <th>region_1</th>\n",
       "      <th>region_2</th>\n",
       "      <th>taster_name</th>\n",
       "      <th>taster_twitter_handle</th>\n",
       "      <th>title</th>\n",
       "      <th>variety</th>\n",
       "      <th>winery</th>\n",
       "      <th>points_standardized</th>\n",
       "      <th>price_standardized</th>\n",
       "      <th>type</th>\n",
       "    </tr>\n",
       "  </thead>\n",
       "  <tbody>\n",
       "    <tr>\n",
       "      <th>697</th>\n",
       "      <td>Austria</td>\n",
       "      <td>Lively notes of fresh yellow plum and mandarin...</td>\n",
       "      <td>von Gösing</td>\n",
       "      <td>91</td>\n",
       "      <td>35.620914</td>\n",
       "      <td>Wagram</td>\n",
       "      <td>NaN</td>\n",
       "      <td>NaN</td>\n",
       "      <td>Anne Krebiehl MW</td>\n",
       "      <td>@AnneInVino</td>\n",
       "      <td>Soellner 2014 von Gösing Roter Veltliner (Wagram)</td>\n",
       "      <td>Roter Veltliner</td>\n",
       "      <td>Soellner</td>\n",
       "      <td>0.963566</td>\n",
       "      <td>0.454690</td>\n",
       "      <td>Unknown</td>\n",
       "    </tr>\n",
       "    <tr>\n",
       "      <th>913</th>\n",
       "      <td>NaN</td>\n",
       "      <td>Amber in color, this wine has aromas of peach ...</td>\n",
       "      <td>Asureti Valley</td>\n",
       "      <td>87</td>\n",
       "      <td>30.000000</td>\n",
       "      <td>NaN</td>\n",
       "      <td>NaN</td>\n",
       "      <td>NaN</td>\n",
       "      <td>Mike DeSimone</td>\n",
       "      <td>@worldwineguys</td>\n",
       "      <td>Gotsa Family Wines 2014 Asureti Valley Chinuri</td>\n",
       "      <td>Chinuri</td>\n",
       "      <td>Gotsa Family Wines</td>\n",
       "      <td>-0.395641</td>\n",
       "      <td>0.073861</td>\n",
       "      <td>Unknown</td>\n",
       "    </tr>\n",
       "    <tr>\n",
       "      <th>956</th>\n",
       "      <td>Italy</td>\n",
       "      <td>Here's a fun, informal sparkler that has aroma...</td>\n",
       "      <td>Anni Venti Metodo Classico</td>\n",
       "      <td>87</td>\n",
       "      <td>30.000000</td>\n",
       "      <td>Southern Italy</td>\n",
       "      <td>Greco di Tufo</td>\n",
       "      <td>NaN</td>\n",
       "      <td>Kerin O’Keefe</td>\n",
       "      <td>@kerinokeefe</td>\n",
       "      <td>Cantine di Marzo NV Anni Venti Metodo Classico...</td>\n",
       "      <td>Greco</td>\n",
       "      <td>Cantine di Marzo</td>\n",
       "      <td>-0.395641</td>\n",
       "      <td>0.073861</td>\n",
       "      <td>Unknown</td>\n",
       "    </tr>\n",
       "    <tr>\n",
       "      <th>1337</th>\n",
       "      <td>Italy</td>\n",
       "      <td>Elegant, savory and balanced, this opens with ...</td>\n",
       "      <td>NaN</td>\n",
       "      <td>90</td>\n",
       "      <td>25.000000</td>\n",
       "      <td>Southern Italy</td>\n",
       "      <td>Greco di Tufo</td>\n",
       "      <td>NaN</td>\n",
       "      <td>Kerin O’Keefe</td>\n",
       "      <td>@kerinokeefe</td>\n",
       "      <td>Di Meo 2016  Greco di Tufo</td>\n",
       "      <td>Greco</td>\n",
       "      <td>Di Meo</td>\n",
       "      <td>0.623764</td>\n",
       "      <td>-0.264899</td>\n",
       "      <td>Unknown</td>\n",
       "    </tr>\n",
       "    <tr>\n",
       "      <th>1895</th>\n",
       "      <td>Italy</td>\n",
       "      <td>Feudi di San Gregorio's distinctive take on th...</td>\n",
       "      <td>NaN</td>\n",
       "      <td>89</td>\n",
       "      <td>22.000000</td>\n",
       "      <td>Southern Italy</td>\n",
       "      <td>Greco di Tufo</td>\n",
       "      <td>NaN</td>\n",
       "      <td>NaN</td>\n",
       "      <td>NaN</td>\n",
       "      <td>Feudi di San Gregorio 2005  Greco di Tufo</td>\n",
       "      <td>Greco</td>\n",
       "      <td>Feudi di San Gregorio</td>\n",
       "      <td>0.283962</td>\n",
       "      <td>-0.468156</td>\n",
       "      <td>Unknown</td>\n",
       "    </tr>\n",
       "  </tbody>\n",
       "</table>\n",
       "</div>"
      ],
      "text/plain": [
       "      country                                        description  \\\n",
       "697   Austria  Lively notes of fresh yellow plum and mandarin...   \n",
       "913       NaN  Amber in color, this wine has aromas of peach ...   \n",
       "956     Italy  Here's a fun, informal sparkler that has aroma...   \n",
       "1337    Italy  Elegant, savory and balanced, this opens with ...   \n",
       "1895    Italy  Feudi di San Gregorio's distinctive take on th...   \n",
       "\n",
       "                     designation  points      price        province  \\\n",
       "697                   von Gösing      91  35.620914          Wagram   \n",
       "913               Asureti Valley      87  30.000000             NaN   \n",
       "956   Anni Venti Metodo Classico      87  30.000000  Southern Italy   \n",
       "1337                         NaN      90  25.000000  Southern Italy   \n",
       "1895                         NaN      89  22.000000  Southern Italy   \n",
       "\n",
       "           region_1 region_2       taster_name taster_twitter_handle  \\\n",
       "697             NaN      NaN  Anne Krebiehl MW           @AnneInVino   \n",
       "913             NaN      NaN     Mike DeSimone        @worldwineguys   \n",
       "956   Greco di Tufo      NaN     Kerin O’Keefe          @kerinokeefe   \n",
       "1337  Greco di Tufo      NaN     Kerin O’Keefe          @kerinokeefe   \n",
       "1895  Greco di Tufo      NaN               NaN                   NaN   \n",
       "\n",
       "                                                  title          variety  \\\n",
       "697   Soellner 2014 von Gösing Roter Veltliner (Wagram)  Roter Veltliner   \n",
       "913      Gotsa Family Wines 2014 Asureti Valley Chinuri          Chinuri   \n",
       "956   Cantine di Marzo NV Anni Venti Metodo Classico...            Greco   \n",
       "1337                         Di Meo 2016  Greco di Tufo            Greco   \n",
       "1895          Feudi di San Gregorio 2005  Greco di Tufo            Greco   \n",
       "\n",
       "                     winery  points_standardized  price_standardized     type  \n",
       "697                Soellner             0.963566            0.454690  Unknown  \n",
       "913      Gotsa Family Wines            -0.395641            0.073861  Unknown  \n",
       "956        Cantine di Marzo            -0.395641            0.073861  Unknown  \n",
       "1337                 Di Meo             0.623764           -0.264899  Unknown  \n",
       "1895  Feudi di San Gregorio             0.283962           -0.468156  Unknown  "
      ]
     },
     "execution_count": 36,
     "metadata": {},
     "output_type": "execute_result"
    }
   ],
   "source": [
    "df[df[\"type\"]==\"Unknown\"].head()"
   ]
  },
  {
   "cell_type": "markdown",
   "metadata": {},
   "source": [
    "To help understand the \"Unknown\" type varieties better, let's Group By variety and sort for most frequently occurring"
   ]
  },
  {
   "cell_type": "code",
   "execution_count": 37,
   "metadata": {},
   "outputs": [
    {
     "name": "stdout",
     "output_type": "stream",
     "text": [
      "# unknown:  68\n",
      "# unknown repeated more than 5 times:  4\n"
     ]
    }
   ],
   "source": [
    "unknowns = df[df[\"type\"]==\"Unknown\"][\"variety\"].values\n",
    "df_unknowns = pd.DataFrame(np.array(unknowns), columns=[\"variety\"])\n",
    "df_unknowns = df_unknowns.groupby(['variety']).size().reset_index(name='count')\n",
    "df_unknowns = df_unknowns.sort_values(by=\"count\", ascending=False, inplace=False, kind='quicksort', na_position='last')\n",
    "print(\"# unknown: \", df_unknowns.shape[0])\n",
    "print(\"# unknown repeated more than 5 times: \", df_unknowns[df_unknowns[\"count\"] > 5].shape[0])"
   ]
  },
  {
   "cell_type": "code",
   "execution_count": 38,
   "metadata": {
    "scrolled": true
   },
   "outputs": [
    {
     "data": {
      "text/html": [
       "<div>\n",
       "<style>\n",
       "    .dataframe thead tr:only-child th {\n",
       "        text-align: right;\n",
       "    }\n",
       "\n",
       "    .dataframe thead th {\n",
       "        text-align: left;\n",
       "    }\n",
       "\n",
       "    .dataframe tbody tr th {\n",
       "        vertical-align: top;\n",
       "    }\n",
       "</style>\n",
       "<table border=\"1\" class=\"dataframe\">\n",
       "  <thead>\n",
       "    <tr style=\"text-align: right;\">\n",
       "      <th></th>\n",
       "      <th>variety</th>\n",
       "      <th>count</th>\n",
       "    </tr>\n",
       "  </thead>\n",
       "  <tbody>\n",
       "    <tr>\n",
       "      <th>39</th>\n",
       "      <td>Muscat</td>\n",
       "      <td>64</td>\n",
       "    </tr>\n",
       "    <tr>\n",
       "      <th>18</th>\n",
       "      <td>Greco</td>\n",
       "      <td>56</td>\n",
       "    </tr>\n",
       "    <tr>\n",
       "      <th>34</th>\n",
       "      <td>Meritage</td>\n",
       "      <td>22</td>\n",
       "    </tr>\n",
       "    <tr>\n",
       "      <th>26</th>\n",
       "      <td>Malvasia</td>\n",
       "      <td>18</td>\n",
       "    </tr>\n",
       "    <tr>\n",
       "      <th>46</th>\n",
       "      <td>Pallagrello</td>\n",
       "      <td>4</td>\n",
       "    </tr>\n",
       "  </tbody>\n",
       "</table>\n",
       "</div>"
      ],
      "text/plain": [
       "        variety  count\n",
       "39       Muscat     64\n",
       "18        Greco     56\n",
       "34     Meritage     22\n",
       "26     Malvasia     18\n",
       "46  Pallagrello      4"
      ]
     },
     "execution_count": 38,
     "metadata": {},
     "output_type": "execute_result"
    }
   ],
   "source": [
    "df_unknowns.head()"
   ]
  },
  {
   "cell_type": "markdown",
   "metadata": {},
   "source": [
    "Of the 268 entries that we were unable to classify, we observe that only 4 varieties account for the bulk of failures.  If we investigate these varieties we learn that these particular varieties are grown with a range of color types.  i.e., Muscat \"colors range from white, to yellow, to pink to near black\" (https://en.wikipedia.org/wiki/Muscat_(grape))."
   ]
  },
  {
   "cell_type": "markdown",
   "metadata": {},
   "source": [
    "#### Create a new \"style\" feature ####"
   ]
  },
  {
   "cell_type": "markdown",
   "metadata": {},
   "source": [
    "Another feature which might be helpful to engineer would be the \"style\".  For our purposes, we will consider only 3 categories: \"Dry\", \"Sweet\", and \"Unknown\".  For your own purposes, you might choose to include varying degrees of dryness/sweetness, or also include a category for \"Table\" wines, etc..."
   ]
  },
  {
   "cell_type": "code",
   "execution_count": 39,
   "metadata": {
    "collapsed": true
   },
   "outputs": [],
   "source": [
    "def determine_style(variety, title, description):\n",
    "    dry = \" dry \"\n",
    "    sweet = \" sweet \"\n",
    "    if dry in variety.lower() or dry in title.lower() or dry in description.lower():\n",
    "        return \"Dry\"\n",
    "    elif sweet in variety.lower() or sweet in title.lower() or sweet in description.lower():\n",
    "        return \"Sweet\"\n",
    "    else:\n",
    "        return \"Unknown\""
   ]
  },
  {
   "cell_type": "code",
   "execution_count": 40,
   "metadata": {},
   "outputs": [
    {
     "data": {
      "text/html": [
       "<div>\n",
       "<style>\n",
       "    .dataframe thead tr:only-child th {\n",
       "        text-align: right;\n",
       "    }\n",
       "\n",
       "    .dataframe thead th {\n",
       "        text-align: left;\n",
       "    }\n",
       "\n",
       "    .dataframe tbody tr th {\n",
       "        vertical-align: top;\n",
       "    }\n",
       "</style>\n",
       "<table border=\"1\" class=\"dataframe\">\n",
       "  <thead>\n",
       "    <tr style=\"text-align: right;\">\n",
       "      <th></th>\n",
       "      <th>country</th>\n",
       "      <th>description</th>\n",
       "      <th>designation</th>\n",
       "      <th>points</th>\n",
       "      <th>price</th>\n",
       "      <th>province</th>\n",
       "      <th>region_1</th>\n",
       "      <th>region_2</th>\n",
       "      <th>taster_name</th>\n",
       "      <th>taster_twitter_handle</th>\n",
       "      <th>title</th>\n",
       "      <th>variety</th>\n",
       "      <th>winery</th>\n",
       "      <th>points_standardized</th>\n",
       "      <th>price_standardized</th>\n",
       "      <th>type</th>\n",
       "      <th>style</th>\n",
       "    </tr>\n",
       "  </thead>\n",
       "  <tbody>\n",
       "    <tr>\n",
       "      <th>0</th>\n",
       "      <td>Italy</td>\n",
       "      <td>Aromas include tropical fruit, broom, brimston...</td>\n",
       "      <td>Vulkà Bianco</td>\n",
       "      <td>87</td>\n",
       "      <td>35.620914</td>\n",
       "      <td>Sicily &amp; Sardinia</td>\n",
       "      <td>Etna</td>\n",
       "      <td>NaN</td>\n",
       "      <td>Kerin O’Keefe</td>\n",
       "      <td>@kerinokeefe</td>\n",
       "      <td>Nicosia 2013 Vulkà Bianco  (Etna)</td>\n",
       "      <td>White Blend</td>\n",
       "      <td>Nicosia</td>\n",
       "      <td>-0.395641</td>\n",
       "      <td>0.454690</td>\n",
       "      <td>White</td>\n",
       "      <td>Unknown</td>\n",
       "    </tr>\n",
       "    <tr>\n",
       "      <th>1</th>\n",
       "      <td>Portugal</td>\n",
       "      <td>This is ripe and fruity, a wine that is smooth...</td>\n",
       "      <td>Avidagos</td>\n",
       "      <td>87</td>\n",
       "      <td>15.000000</td>\n",
       "      <td>Douro</td>\n",
       "      <td>NaN</td>\n",
       "      <td>NaN</td>\n",
       "      <td>Roger Voss</td>\n",
       "      <td>@vossroger</td>\n",
       "      <td>Quinta dos Avidagos 2011 Avidagos Red (Douro)</td>\n",
       "      <td>Portuguese Red</td>\n",
       "      <td>Quinta dos Avidagos</td>\n",
       "      <td>-0.395641</td>\n",
       "      <td>-0.942420</td>\n",
       "      <td>Red</td>\n",
       "      <td>Unknown</td>\n",
       "    </tr>\n",
       "    <tr>\n",
       "      <th>2</th>\n",
       "      <td>US</td>\n",
       "      <td>Tart and snappy, the flavors of lime flesh and...</td>\n",
       "      <td>NaN</td>\n",
       "      <td>87</td>\n",
       "      <td>14.000000</td>\n",
       "      <td>Oregon</td>\n",
       "      <td>Willamette Valley</td>\n",
       "      <td>Willamette Valley</td>\n",
       "      <td>Paul Gregutt</td>\n",
       "      <td>@paulgwine</td>\n",
       "      <td>Rainstorm 2013 Pinot Gris (Willamette Valley)</td>\n",
       "      <td>Pinot Gris</td>\n",
       "      <td>Rainstorm</td>\n",
       "      <td>-0.395641</td>\n",
       "      <td>-1.010172</td>\n",
       "      <td>White</td>\n",
       "      <td>Unknown</td>\n",
       "    </tr>\n",
       "    <tr>\n",
       "      <th>3</th>\n",
       "      <td>US</td>\n",
       "      <td>Pineapple rind, lemon pith and orange blossom ...</td>\n",
       "      <td>Reserve Late Harvest</td>\n",
       "      <td>87</td>\n",
       "      <td>13.000000</td>\n",
       "      <td>Michigan</td>\n",
       "      <td>Lake Michigan Shore</td>\n",
       "      <td>NaN</td>\n",
       "      <td>Alexander Peartree</td>\n",
       "      <td>NaN</td>\n",
       "      <td>St. Julian 2013 Reserve Late Harvest Riesling ...</td>\n",
       "      <td>Riesling</td>\n",
       "      <td>St. Julian</td>\n",
       "      <td>-0.395641</td>\n",
       "      <td>-1.077924</td>\n",
       "      <td>White</td>\n",
       "      <td>Unknown</td>\n",
       "    </tr>\n",
       "    <tr>\n",
       "      <th>4</th>\n",
       "      <td>US</td>\n",
       "      <td>Much like the regular bottling from 2012, this...</td>\n",
       "      <td>Vintner's Reserve Wild Child Block</td>\n",
       "      <td>87</td>\n",
       "      <td>65.000000</td>\n",
       "      <td>Oregon</td>\n",
       "      <td>Willamette Valley</td>\n",
       "      <td>Willamette Valley</td>\n",
       "      <td>Paul Gregutt</td>\n",
       "      <td>@paulgwine</td>\n",
       "      <td>Sweet Cheeks 2012 Vintner's Reserve Wild Child...</td>\n",
       "      <td>Pinot Noir</td>\n",
       "      <td>Sweet Cheeks</td>\n",
       "      <td>-0.395641</td>\n",
       "      <td>2.445185</td>\n",
       "      <td>Red</td>\n",
       "      <td>Unknown</td>\n",
       "    </tr>\n",
       "  </tbody>\n",
       "</table>\n",
       "</div>"
      ],
      "text/plain": [
       "    country                                        description  \\\n",
       "0     Italy  Aromas include tropical fruit, broom, brimston...   \n",
       "1  Portugal  This is ripe and fruity, a wine that is smooth...   \n",
       "2        US  Tart and snappy, the flavors of lime flesh and...   \n",
       "3        US  Pineapple rind, lemon pith and orange blossom ...   \n",
       "4        US  Much like the regular bottling from 2012, this...   \n",
       "\n",
       "                          designation  points      price           province  \\\n",
       "0                        Vulkà Bianco      87  35.620914  Sicily & Sardinia   \n",
       "1                            Avidagos      87  15.000000              Douro   \n",
       "2                                 NaN      87  14.000000             Oregon   \n",
       "3                Reserve Late Harvest      87  13.000000           Michigan   \n",
       "4  Vintner's Reserve Wild Child Block      87  65.000000             Oregon   \n",
       "\n",
       "              region_1           region_2         taster_name  \\\n",
       "0                 Etna                NaN       Kerin O’Keefe   \n",
       "1                  NaN                NaN          Roger Voss   \n",
       "2    Willamette Valley  Willamette Valley        Paul Gregutt   \n",
       "3  Lake Michigan Shore                NaN  Alexander Peartree   \n",
       "4    Willamette Valley  Willamette Valley        Paul Gregutt   \n",
       "\n",
       "  taster_twitter_handle                                              title  \\\n",
       "0          @kerinokeefe                  Nicosia 2013 Vulkà Bianco  (Etna)   \n",
       "1            @vossroger      Quinta dos Avidagos 2011 Avidagos Red (Douro)   \n",
       "2           @paulgwine       Rainstorm 2013 Pinot Gris (Willamette Valley)   \n",
       "3                   NaN  St. Julian 2013 Reserve Late Harvest Riesling ...   \n",
       "4           @paulgwine   Sweet Cheeks 2012 Vintner's Reserve Wild Child...   \n",
       "\n",
       "          variety               winery  points_standardized  \\\n",
       "0     White Blend              Nicosia            -0.395641   \n",
       "1  Portuguese Red  Quinta dos Avidagos            -0.395641   \n",
       "2      Pinot Gris            Rainstorm            -0.395641   \n",
       "3        Riesling           St. Julian            -0.395641   \n",
       "4      Pinot Noir         Sweet Cheeks            -0.395641   \n",
       "\n",
       "   price_standardized   type    style  \n",
       "0            0.454690  White  Unknown  \n",
       "1           -0.942420    Red  Unknown  \n",
       "2           -1.010172  White  Unknown  \n",
       "3           -1.077924  White  Unknown  \n",
       "4            2.445185    Red  Unknown  "
      ]
     },
     "execution_count": 40,
     "metadata": {},
     "output_type": "execute_result"
    }
   ],
   "source": [
    "df_style = df.copy()\n",
    "df_style[\"style\"] = df.apply(lambda row: determine_style(row.variety, row.title, row.description), axis=1)\n",
    "df_style.head()"
   ]
  },
  {
   "cell_type": "code",
   "execution_count": 41,
   "metadata": {},
   "outputs": [
    {
     "name": "stdout",
     "output_type": "stream",
     "text": [
      "# DRY:  8924\n",
      "# SWEET:  7199\n",
      "# UNKNOWN:  95306\n"
     ]
    }
   ],
   "source": [
    "print(\"# DRY: \", df_style[df_style[\"style\"]==\"Dry\"].shape[0])\n",
    "print(\"# SWEET: \", df_style[df_style[\"style\"]==\"Sweet\"].shape[0])\n",
    "print(\"# UNKNOWN: \", df_style[df_style[\"style\"]==\"Unknown\"].shape[0])"
   ]
  },
  {
   "cell_type": "markdown",
   "metadata": {},
   "source": [
    "Unlike our success with \"type\", \"style\" has a ~73% failure to classify rate. We will skip this potential feature for now, but if we wanted to spend more time, then we could take this up as a separate NLP effort."
   ]
  },
  {
   "cell_type": "markdown",
   "metadata": {},
   "source": [
    "#### Merge \"variety\" values ####"
   ]
  },
  {
   "cell_type": "markdown",
   "metadata": {},
   "source": [
    "As we observed during our assessment, there are several varieties which may better be re-classified as part of a common group:"
   ]
  },
  {
   "cell_type": "code",
   "execution_count": 42,
   "metadata": {},
   "outputs": [
    {
     "data": {
      "text/plain": [
       "array(['Tempranillo-Merlot', 'Cabernet Sauvignon', 'Malbec',\n",
       "       'Tempranillo Blend', 'Bordeaux-style White Blend',\n",
       "       'Cabernet Franc', 'Bordeaux-style Red Blend',\n",
       "       'Shiraz-Cabernet Sauvignon', 'Tannat-Cabernet',\n",
       "       'Cabernet Sauvignon-Syrah', 'Tempranillo',\n",
       "       'Cabernet Sauvignon-Carmenère', 'Merlot-Malbec',\n",
       "       'Cabernet Sauvignon-Merlot', 'Syrah-Cabernet',\n",
       "       'Cabernet Sauvignon-Sangiovese', 'Malbec-Merlot', 'Malbec-Tannat',\n",
       "       'Malbec-Cabernet Franc', 'Cabernet Moravia',\n",
       "       'Cabernet Sauvignon-Shiraz', 'Syrah-Cabernet Sauvignon',\n",
       "       'Cabernet Franc-Cabernet Sauvignon', 'Cabernet Merlot',\n",
       "       'Tempranillo-Cabernet Sauvignon', 'Merlot-Cabernet Franc',\n",
       "       'Cabernet Blend', 'Cabernet Franc-Carmenère',\n",
       "       'Cabernet Franc-Merlot', 'Cabernet Sauvignon-Malbec',\n",
       "       'Malbec-Syrah', 'Malbec-Cabernet Sauvignon',\n",
       "       'Cabernet Sauvignon-Tempranillo', 'Cabernet-Syrah',\n",
       "       'Merlot-Cabernet Sauvignon', 'Sangiovese Cabernet',\n",
       "       'Touriga Nacional-Cabernet Sauvignon',\n",
       "       'Cabernet Sauvignon-Cabernet Franc', 'Tempranillo-Tannat',\n",
       "       'Tempranillo-Garnacha', 'Carmenère-Cabernet Sauvignon', 'Cabernet',\n",
       "       'Syrah-Tempranillo', 'Cabernet Sauvignon-Barbera',\n",
       "       'Merlot-Cabernet', 'Sangiovese-Cabernet Sauvignon',\n",
       "       'Shiraz-Cabernet', 'Malbec-Petit Verdot', 'Tempranillo-Shiraz',\n",
       "       'Cabernet Sauvignon-Merlot-Shiraz', 'Tempranillo Blanco',\n",
       "       'Tannat-Cabernet Franc', 'Cabernet Franc-Malbec', 'Shiraz-Malbec',\n",
       "       'Tempranillo-Malbec', 'Syrah-Malbec', 'Syrah-Cabernet Franc',\n",
       "       'Malbec-Bonarda', 'Malbec-Carménère', 'Cabernet Pfeffer',\n",
       "       'Garnacha-Tempranillo', 'Cabernet Sauvignon Grenache',\n",
       "       'Malbec Blend', 'Tempranillo-Syrah', 'Malbec-Cabernet',\n",
       "       'Cabernet-Malbec', 'Cabernet-Shiraz', 'Shiraz-Tempranillo',\n",
       "       'Malbec-Tempranillo', 'Garnacha-Cabernet',\n",
       "       'Cabernet Franc-Lemberger', 'Bobal-Cabernet Sauvignon'],\n",
       "      dtype=object)"
      ]
     },
     "execution_count": 42,
     "metadata": {},
     "output_type": "execute_result"
    }
   ],
   "source": [
    "favorites_filter = df[\"variety\"].astype(str).str.lower().str.contains(\"bordeaux|cabernet|malbec|tempranillo\")\n",
    "df[favorites_filter][\"variety\"].unique()"
   ]
  },
  {
   "cell_type": "markdown",
   "metadata": {},
   "source": [
    "In anticipation of our attempt to merge varieties, let's first Group By variety and sort for most frequently occurring:"
   ]
  },
  {
   "cell_type": "code",
   "execution_count": 43,
   "metadata": {},
   "outputs": [
    {
     "data": {
      "text/html": [
       "<div>\n",
       "<style>\n",
       "    .dataframe thead tr:only-child th {\n",
       "        text-align: right;\n",
       "    }\n",
       "\n",
       "    .dataframe thead th {\n",
       "        text-align: left;\n",
       "    }\n",
       "\n",
       "    .dataframe tbody tr th {\n",
       "        vertical-align: top;\n",
       "    }\n",
       "</style>\n",
       "<table border=\"1\" class=\"dataframe\">\n",
       "  <thead>\n",
       "    <tr style=\"text-align: right;\">\n",
       "      <th></th>\n",
       "      <th>variety</th>\n",
       "      <th>count</th>\n",
       "    </tr>\n",
       "  </thead>\n",
       "  <tbody>\n",
       "    <tr>\n",
       "      <th>439</th>\n",
       "      <td>Pinot Noir</td>\n",
       "      <td>11104</td>\n",
       "    </tr>\n",
       "    <tr>\n",
       "      <th>125</th>\n",
       "      <td>Chardonnay</td>\n",
       "      <td>10269</td>\n",
       "    </tr>\n",
       "    <tr>\n",
       "      <th>471</th>\n",
       "      <td>Red Blend</td>\n",
       "      <td>7620</td>\n",
       "    </tr>\n",
       "    <tr>\n",
       "      <th>80</th>\n",
       "      <td>Cabernet Sauvignon</td>\n",
       "      <td>7088</td>\n",
       "    </tr>\n",
       "    <tr>\n",
       "      <th>62</th>\n",
       "      <td>Bordeaux-style Red Blend</td>\n",
       "      <td>5803</td>\n",
       "    </tr>\n",
       "  </tbody>\n",
       "</table>\n",
       "</div>"
      ],
      "text/plain": [
       "                      variety  count\n",
       "439                Pinot Noir  11104\n",
       "125                Chardonnay  10269\n",
       "471                 Red Blend   7620\n",
       "80         Cabernet Sauvignon   7088\n",
       "62   Bordeaux-style Red Blend   5803"
      ]
     },
     "execution_count": 43,
     "metadata": {},
     "output_type": "execute_result"
    }
   ],
   "source": [
    "df_varieties = df.groupby(['variety']).size().reset_index(name='count')\n",
    "df_varieties = df_varieties.sort_values(by=\"count\", ascending=False, inplace=False, kind='quicksort', na_position='last')\n",
    "df_varieties.head()"
   ]
  },
  {
   "cell_type": "markdown",
   "metadata": {},
   "source": [
    "We can perform simple merges by looking for a basic keyword (i.e., \"pinot\"), or if we know that some varieties go by other varietal names (i.e., \"tinto fino\" === \"tempranillo\"), then we can also go ahead and merge those (the more specific the better): "
   ]
  },
  {
   "cell_type": "code",
   "execution_count": 44,
   "metadata": {
    "collapsed": true
   },
   "outputs": [],
   "source": [
    "def merge_variety(variety):\n",
    "    variety = variety.lower()\n",
    "    if \"pinot\" in variety:\n",
    "        return \"Pinot\"\n",
    "    elif \"chardonnay\" in variety:\n",
    "        return \"Chardonnay\"\n",
    "    elif \"blend\" in variety:\n",
    "        return \"Blend\"\n",
    "    elif \"cabernet\" in variety:\n",
    "        return \"Cabernet\"\n",
    "    elif \"bordeaux\" in variety:\n",
    "        return \"Bordeaux\"\n",
    "    elif any(_variety == variety for _variety in [\"tinto fino\", \"tinta de toro\", \"tempranillo\", \"tempranillo blend\"]):\n",
    "        return \"Tempranillo\"\n",
    "    elif \"sangiovese\" in variety:\n",
    "        return \"Sangiovese\"\n",
    "    else:\n",
    "        return None"
   ]
  },
  {
   "cell_type": "code",
   "execution_count": 45,
   "metadata": {},
   "outputs": [
    {
     "data": {
      "text/html": [
       "<div>\n",
       "<style>\n",
       "    .dataframe thead tr:only-child th {\n",
       "        text-align: right;\n",
       "    }\n",
       "\n",
       "    .dataframe thead th {\n",
       "        text-align: left;\n",
       "    }\n",
       "\n",
       "    .dataframe tbody tr th {\n",
       "        vertical-align: top;\n",
       "    }\n",
       "</style>\n",
       "<table border=\"1\" class=\"dataframe\">\n",
       "  <thead>\n",
       "    <tr style=\"text-align: right;\">\n",
       "      <th></th>\n",
       "      <th>country</th>\n",
       "      <th>description</th>\n",
       "      <th>designation</th>\n",
       "      <th>points</th>\n",
       "      <th>price</th>\n",
       "      <th>province</th>\n",
       "      <th>region_1</th>\n",
       "      <th>region_2</th>\n",
       "      <th>taster_name</th>\n",
       "      <th>taster_twitter_handle</th>\n",
       "      <th>title</th>\n",
       "      <th>variety</th>\n",
       "      <th>winery</th>\n",
       "      <th>points_standardized</th>\n",
       "      <th>price_standardized</th>\n",
       "      <th>type</th>\n",
       "      <th>variety_merged</th>\n",
       "    </tr>\n",
       "  </thead>\n",
       "  <tbody>\n",
       "    <tr>\n",
       "      <th>0</th>\n",
       "      <td>Italy</td>\n",
       "      <td>Aromas include tropical fruit, broom, brimston...</td>\n",
       "      <td>Vulkà Bianco</td>\n",
       "      <td>87</td>\n",
       "      <td>35.620914</td>\n",
       "      <td>Sicily &amp; Sardinia</td>\n",
       "      <td>Etna</td>\n",
       "      <td>NaN</td>\n",
       "      <td>Kerin O’Keefe</td>\n",
       "      <td>@kerinokeefe</td>\n",
       "      <td>Nicosia 2013 Vulkà Bianco  (Etna)</td>\n",
       "      <td>White Blend</td>\n",
       "      <td>Nicosia</td>\n",
       "      <td>-0.395641</td>\n",
       "      <td>0.454690</td>\n",
       "      <td>White</td>\n",
       "      <td>Blend</td>\n",
       "    </tr>\n",
       "    <tr>\n",
       "      <th>1</th>\n",
       "      <td>Portugal</td>\n",
       "      <td>This is ripe and fruity, a wine that is smooth...</td>\n",
       "      <td>Avidagos</td>\n",
       "      <td>87</td>\n",
       "      <td>15.000000</td>\n",
       "      <td>Douro</td>\n",
       "      <td>NaN</td>\n",
       "      <td>NaN</td>\n",
       "      <td>Roger Voss</td>\n",
       "      <td>@vossroger</td>\n",
       "      <td>Quinta dos Avidagos 2011 Avidagos Red (Douro)</td>\n",
       "      <td>Portuguese Red</td>\n",
       "      <td>Quinta dos Avidagos</td>\n",
       "      <td>-0.395641</td>\n",
       "      <td>-0.942420</td>\n",
       "      <td>Red</td>\n",
       "      <td>None</td>\n",
       "    </tr>\n",
       "    <tr>\n",
       "      <th>2</th>\n",
       "      <td>US</td>\n",
       "      <td>Tart and snappy, the flavors of lime flesh and...</td>\n",
       "      <td>NaN</td>\n",
       "      <td>87</td>\n",
       "      <td>14.000000</td>\n",
       "      <td>Oregon</td>\n",
       "      <td>Willamette Valley</td>\n",
       "      <td>Willamette Valley</td>\n",
       "      <td>Paul Gregutt</td>\n",
       "      <td>@paulgwine</td>\n",
       "      <td>Rainstorm 2013 Pinot Gris (Willamette Valley)</td>\n",
       "      <td>Pinot Gris</td>\n",
       "      <td>Rainstorm</td>\n",
       "      <td>-0.395641</td>\n",
       "      <td>-1.010172</td>\n",
       "      <td>White</td>\n",
       "      <td>Pinot</td>\n",
       "    </tr>\n",
       "    <tr>\n",
       "      <th>3</th>\n",
       "      <td>US</td>\n",
       "      <td>Pineapple rind, lemon pith and orange blossom ...</td>\n",
       "      <td>Reserve Late Harvest</td>\n",
       "      <td>87</td>\n",
       "      <td>13.000000</td>\n",
       "      <td>Michigan</td>\n",
       "      <td>Lake Michigan Shore</td>\n",
       "      <td>NaN</td>\n",
       "      <td>Alexander Peartree</td>\n",
       "      <td>NaN</td>\n",
       "      <td>St. Julian 2013 Reserve Late Harvest Riesling ...</td>\n",
       "      <td>Riesling</td>\n",
       "      <td>St. Julian</td>\n",
       "      <td>-0.395641</td>\n",
       "      <td>-1.077924</td>\n",
       "      <td>White</td>\n",
       "      <td>None</td>\n",
       "    </tr>\n",
       "    <tr>\n",
       "      <th>4</th>\n",
       "      <td>US</td>\n",
       "      <td>Much like the regular bottling from 2012, this...</td>\n",
       "      <td>Vintner's Reserve Wild Child Block</td>\n",
       "      <td>87</td>\n",
       "      <td>65.000000</td>\n",
       "      <td>Oregon</td>\n",
       "      <td>Willamette Valley</td>\n",
       "      <td>Willamette Valley</td>\n",
       "      <td>Paul Gregutt</td>\n",
       "      <td>@paulgwine</td>\n",
       "      <td>Sweet Cheeks 2012 Vintner's Reserve Wild Child...</td>\n",
       "      <td>Pinot Noir</td>\n",
       "      <td>Sweet Cheeks</td>\n",
       "      <td>-0.395641</td>\n",
       "      <td>2.445185</td>\n",
       "      <td>Red</td>\n",
       "      <td>Pinot</td>\n",
       "    </tr>\n",
       "  </tbody>\n",
       "</table>\n",
       "</div>"
      ],
      "text/plain": [
       "    country                                        description  \\\n",
       "0     Italy  Aromas include tropical fruit, broom, brimston...   \n",
       "1  Portugal  This is ripe and fruity, a wine that is smooth...   \n",
       "2        US  Tart and snappy, the flavors of lime flesh and...   \n",
       "3        US  Pineapple rind, lemon pith and orange blossom ...   \n",
       "4        US  Much like the regular bottling from 2012, this...   \n",
       "\n",
       "                          designation  points      price           province  \\\n",
       "0                        Vulkà Bianco      87  35.620914  Sicily & Sardinia   \n",
       "1                            Avidagos      87  15.000000              Douro   \n",
       "2                                 NaN      87  14.000000             Oregon   \n",
       "3                Reserve Late Harvest      87  13.000000           Michigan   \n",
       "4  Vintner's Reserve Wild Child Block      87  65.000000             Oregon   \n",
       "\n",
       "              region_1           region_2         taster_name  \\\n",
       "0                 Etna                NaN       Kerin O’Keefe   \n",
       "1                  NaN                NaN          Roger Voss   \n",
       "2    Willamette Valley  Willamette Valley        Paul Gregutt   \n",
       "3  Lake Michigan Shore                NaN  Alexander Peartree   \n",
       "4    Willamette Valley  Willamette Valley        Paul Gregutt   \n",
       "\n",
       "  taster_twitter_handle                                              title  \\\n",
       "0          @kerinokeefe                  Nicosia 2013 Vulkà Bianco  (Etna)   \n",
       "1            @vossroger      Quinta dos Avidagos 2011 Avidagos Red (Douro)   \n",
       "2           @paulgwine       Rainstorm 2013 Pinot Gris (Willamette Valley)   \n",
       "3                   NaN  St. Julian 2013 Reserve Late Harvest Riesling ...   \n",
       "4           @paulgwine   Sweet Cheeks 2012 Vintner's Reserve Wild Child...   \n",
       "\n",
       "          variety               winery  points_standardized  \\\n",
       "0     White Blend              Nicosia            -0.395641   \n",
       "1  Portuguese Red  Quinta dos Avidagos            -0.395641   \n",
       "2      Pinot Gris            Rainstorm            -0.395641   \n",
       "3        Riesling           St. Julian            -0.395641   \n",
       "4      Pinot Noir         Sweet Cheeks            -0.395641   \n",
       "\n",
       "   price_standardized   type variety_merged  \n",
       "0            0.454690  White          Blend  \n",
       "1           -0.942420    Red           None  \n",
       "2           -1.010172  White          Pinot  \n",
       "3           -1.077924  White           None  \n",
       "4            2.445185    Red          Pinot  "
      ]
     },
     "execution_count": 45,
     "metadata": {},
     "output_type": "execute_result"
    }
   ],
   "source": [
    "df_merged = df.copy()\n",
    "df_merged[\"variety_merged\"] = df.apply(lambda row: merge_variety(row.variety), axis=1)\n",
    "df_merged.head()"
   ]
  },
  {
   "cell_type": "code",
   "execution_count": 46,
   "metadata": {},
   "outputs": [
    {
     "data": {
      "text/html": [
       "<div>\n",
       "<style>\n",
       "    .dataframe thead tr:only-child th {\n",
       "        text-align: right;\n",
       "    }\n",
       "\n",
       "    .dataframe thead th {\n",
       "        text-align: left;\n",
       "    }\n",
       "\n",
       "    .dataframe tbody tr th {\n",
       "        vertical-align: top;\n",
       "    }\n",
       "</style>\n",
       "<table border=\"1\" class=\"dataframe\">\n",
       "  <thead>\n",
       "    <tr style=\"text-align: right;\">\n",
       "      <th></th>\n",
       "      <th>variety_merged</th>\n",
       "      <th>count</th>\n",
       "    </tr>\n",
       "  </thead>\n",
       "  <tbody>\n",
       "    <tr>\n",
       "      <th>0</th>\n",
       "      <td>Blend</td>\n",
       "      <td>21897</td>\n",
       "    </tr>\n",
       "    <tr>\n",
       "      <th>3</th>\n",
       "      <td>Pinot</td>\n",
       "      <td>14287</td>\n",
       "    </tr>\n",
       "    <tr>\n",
       "      <th>2</th>\n",
       "      <td>Chardonnay</td>\n",
       "      <td>10402</td>\n",
       "    </tr>\n",
       "    <tr>\n",
       "      <th>1</th>\n",
       "      <td>Cabernet</td>\n",
       "      <td>8994</td>\n",
       "    </tr>\n",
       "    <tr>\n",
       "      <th>4</th>\n",
       "      <td>Sangiovese</td>\n",
       "      <td>2677</td>\n",
       "    </tr>\n",
       "  </tbody>\n",
       "</table>\n",
       "</div>"
      ],
      "text/plain": [
       "  variety_merged  count\n",
       "0          Blend  21897\n",
       "3          Pinot  14287\n",
       "2     Chardonnay  10402\n",
       "1       Cabernet   8994\n",
       "4     Sangiovese   2677"
      ]
     },
     "execution_count": 46,
     "metadata": {},
     "output_type": "execute_result"
    }
   ],
   "source": [
    "df_merged_grouped = df_merged.groupby([\"variety_merged\"]).size().reset_index(name='count')\n",
    "df_merged_grouped = df_merged_grouped.sort_values(by=\"count\", ascending=False, inplace=False, kind='quicksort', na_position='last')\n",
    "df_merged_grouped.head()"
   ]
  },
  {
   "cell_type": "code",
   "execution_count": 47,
   "metadata": {},
   "outputs": [
    {
     "data": {
      "text/plain": [
       "51407"
      ]
     },
     "execution_count": 47,
     "metadata": {},
     "output_type": "execute_result"
    }
   ],
   "source": [
    "df_merged[\"variety_merged\"].isnull().sum()"
   ]
  },
  {
   "cell_type": "markdown",
   "metadata": {},
   "source": [
    "Unfortunately, ~40% of our dataset is still not merged under an common variety.  Similar to the \"style\" feature, we could spend more time performing a more sophisticated transformation here, but for the sake of time (deadlines are real!) we will continue and discover whether we can make use of the 60% that we were able to successfully classify."
   ]
  },
  {
   "cell_type": "code",
   "execution_count": 48,
   "metadata": {
    "collapsed": true
   },
   "outputs": [],
   "source": [
    "df[\"variety_merged\"] = df_merged[\"variety_merged\"]"
   ]
  },
  {
   "cell_type": "markdown",
   "metadata": {},
   "source": [
    "Now that we've got our data cleaned and transformed, let's proceed to the analysis..."
   ]
  },
  {
   "cell_type": "markdown",
   "metadata": {},
   "source": [
    "<a id=\"analyze\"></a>"
   ]
  },
  {
   "cell_type": "markdown",
   "metadata": {},
   "source": [
    "### VISUALIZE and ANALYZE the data ###\n",
    "\n",
    "The goal of our analysis is to answer any questions that we may have originally asked of our dataset, and also to uncover new and unexpected insights when possible.  We would like to answer 4 questions (for more on this, see: http://zdmc.info/blog/asking-important-questions-about-wine):\n",
    "\n",
    "  1. Do certain varieties consistently score higher than others?\n",
    "  1. Is there an optimal price range, such that you can have confidence that the price corresponds to relative quality?  (Prior to examining this data, I've assumed a range of 15-35 USD).\n",
    "  1. How does my favorite \"winery\" compare to others?\n",
    "  1. Which features best determine the score of a wine?"
   ]
  },
  {
   "cell_type": "markdown",
   "metadata": {},
   "source": [
    "#### Q1. Do certain varieties consistently score higher than others? ####"
   ]
  },
  {
   "cell_type": "markdown",
   "metadata": {},
   "source": [
    "Let's attempt to answer our first question by looking at the mean score per variety, and selecting the top N.  We will also make use of our new \"merged_varieties\" feature to find out whether that broader categorical grouping makes any difference:"
   ]
  },
  {
   "cell_type": "code",
   "execution_count": 49,
   "metadata": {},
   "outputs": [
    {
     "data": {
      "text/html": [
       "<div>\n",
       "<style>\n",
       "    .dataframe thead tr:only-child th {\n",
       "        text-align: right;\n",
       "    }\n",
       "\n",
       "    .dataframe thead th {\n",
       "        text-align: left;\n",
       "    }\n",
       "\n",
       "    .dataframe tbody tr th {\n",
       "        vertical-align: top;\n",
       "    }\n",
       "</style>\n",
       "<table border=\"1\" class=\"dataframe\">\n",
       "  <thead>\n",
       "    <tr style=\"text-align: right;\">\n",
       "      <th></th>\n",
       "      <th>variety</th>\n",
       "      <th>count</th>\n",
       "    </tr>\n",
       "  </thead>\n",
       "  <tbody>\n",
       "    <tr>\n",
       "      <th>0</th>\n",
       "      <td>Abouriou</td>\n",
       "      <td>2</td>\n",
       "    </tr>\n",
       "    <tr>\n",
       "      <th>1</th>\n",
       "      <td>Agiorgitiko</td>\n",
       "      <td>56</td>\n",
       "    </tr>\n",
       "    <tr>\n",
       "      <th>2</th>\n",
       "      <td>Aglianico</td>\n",
       "      <td>314</td>\n",
       "    </tr>\n",
       "    <tr>\n",
       "      <th>3</th>\n",
       "      <td>Aidani</td>\n",
       "      <td>1</td>\n",
       "    </tr>\n",
       "    <tr>\n",
       "      <th>4</th>\n",
       "      <td>Airen</td>\n",
       "      <td>3</td>\n",
       "    </tr>\n",
       "  </tbody>\n",
       "</table>\n",
       "</div>"
      ],
      "text/plain": [
       "       variety  count\n",
       "0     Abouriou      2\n",
       "1  Agiorgitiko     56\n",
       "2    Aglianico    314\n",
       "3       Aidani      1\n",
       "4        Airen      3"
      ]
     },
     "execution_count": 49,
     "metadata": {},
     "output_type": "execute_result"
    }
   ],
   "source": [
    "df_by_variety = df.groupby([\"variety\"]).size().reset_index(name=\"count\")\n",
    "df_by_variety.head()"
   ]
  },
  {
   "cell_type": "markdown",
   "metadata": {},
   "source": [
    "NOTE: In somewhat arbitrary fashion, let's narrow down all varieties to popular varieties.  For our purposes, we'll consider any variety with more than 250 reviews (anything under 250 yielded a number of results that began to clutter the box chart visualization).  If we truly want to look at all varieties (in the hopes of finding some obscure and amazing variety, which posts a legitimately high score rather than simply presenting a biased sample), then we should also revisit the section above where we remove outliers per the IQR ratio.  However, we're going to assume that it's possible for varieties to score highly if they are rare (for a variety of reasons), and so we want to only consider varities with enough reviews to demonstrate consistency in the scores."
   ]
  },
  {
   "cell_type": "code",
   "execution_count": 50,
   "metadata": {},
   "outputs": [
    {
     "data": {
      "text/plain": [
       "(50, 2)"
      ]
     },
     "execution_count": 50,
     "metadata": {},
     "output_type": "execute_result"
    }
   ],
   "source": [
    "df_by_variety = df_by_variety[df_by_variety[\"count\"]>250]\n",
    "df_by_variety.shape"
   ]
  },
  {
   "cell_type": "code",
   "execution_count": 51,
   "metadata": {},
   "outputs": [
    {
     "data": {
      "text/html": [
       "<div>\n",
       "<style>\n",
       "    .dataframe thead tr:only-child th {\n",
       "        text-align: right;\n",
       "    }\n",
       "\n",
       "    .dataframe thead th {\n",
       "        text-align: left;\n",
       "    }\n",
       "\n",
       "    .dataframe tbody tr th {\n",
       "        vertical-align: top;\n",
       "    }\n",
       "</style>\n",
       "<table border=\"1\" class=\"dataframe\">\n",
       "  <thead>\n",
       "    <tr style=\"text-align: right;\">\n",
       "      <th></th>\n",
       "      <th>country</th>\n",
       "      <th>description</th>\n",
       "      <th>designation</th>\n",
       "      <th>points</th>\n",
       "      <th>price</th>\n",
       "      <th>province</th>\n",
       "      <th>region_1</th>\n",
       "      <th>region_2</th>\n",
       "      <th>taster_name</th>\n",
       "      <th>taster_twitter_handle</th>\n",
       "      <th>title</th>\n",
       "      <th>variety</th>\n",
       "      <th>winery</th>\n",
       "      <th>points_standardized</th>\n",
       "      <th>price_standardized</th>\n",
       "      <th>type</th>\n",
       "      <th>variety_merged</th>\n",
       "    </tr>\n",
       "  </thead>\n",
       "  <tbody>\n",
       "    <tr>\n",
       "      <th>0</th>\n",
       "      <td>Italy</td>\n",
       "      <td>Aromas include tropical fruit, broom, brimston...</td>\n",
       "      <td>Vulkà Bianco</td>\n",
       "      <td>87</td>\n",
       "      <td>35.620914</td>\n",
       "      <td>Sicily &amp; Sardinia</td>\n",
       "      <td>Etna</td>\n",
       "      <td>NaN</td>\n",
       "      <td>Kerin O’Keefe</td>\n",
       "      <td>@kerinokeefe</td>\n",
       "      <td>Nicosia 2013 Vulkà Bianco  (Etna)</td>\n",
       "      <td>White Blend</td>\n",
       "      <td>Nicosia</td>\n",
       "      <td>-0.395641</td>\n",
       "      <td>0.454690</td>\n",
       "      <td>White</td>\n",
       "      <td>Blend</td>\n",
       "    </tr>\n",
       "    <tr>\n",
       "      <th>1</th>\n",
       "      <td>Portugal</td>\n",
       "      <td>This is ripe and fruity, a wine that is smooth...</td>\n",
       "      <td>Avidagos</td>\n",
       "      <td>87</td>\n",
       "      <td>15.000000</td>\n",
       "      <td>Douro</td>\n",
       "      <td>NaN</td>\n",
       "      <td>NaN</td>\n",
       "      <td>Roger Voss</td>\n",
       "      <td>@vossroger</td>\n",
       "      <td>Quinta dos Avidagos 2011 Avidagos Red (Douro)</td>\n",
       "      <td>Portuguese Red</td>\n",
       "      <td>Quinta dos Avidagos</td>\n",
       "      <td>-0.395641</td>\n",
       "      <td>-0.942420</td>\n",
       "      <td>Red</td>\n",
       "      <td>None</td>\n",
       "    </tr>\n",
       "    <tr>\n",
       "      <th>2</th>\n",
       "      <td>US</td>\n",
       "      <td>Tart and snappy, the flavors of lime flesh and...</td>\n",
       "      <td>NaN</td>\n",
       "      <td>87</td>\n",
       "      <td>14.000000</td>\n",
       "      <td>Oregon</td>\n",
       "      <td>Willamette Valley</td>\n",
       "      <td>Willamette Valley</td>\n",
       "      <td>Paul Gregutt</td>\n",
       "      <td>@paulgwine</td>\n",
       "      <td>Rainstorm 2013 Pinot Gris (Willamette Valley)</td>\n",
       "      <td>Pinot Gris</td>\n",
       "      <td>Rainstorm</td>\n",
       "      <td>-0.395641</td>\n",
       "      <td>-1.010172</td>\n",
       "      <td>White</td>\n",
       "      <td>Pinot</td>\n",
       "    </tr>\n",
       "    <tr>\n",
       "      <th>3</th>\n",
       "      <td>US</td>\n",
       "      <td>Pineapple rind, lemon pith and orange blossom ...</td>\n",
       "      <td>Reserve Late Harvest</td>\n",
       "      <td>87</td>\n",
       "      <td>13.000000</td>\n",
       "      <td>Michigan</td>\n",
       "      <td>Lake Michigan Shore</td>\n",
       "      <td>NaN</td>\n",
       "      <td>Alexander Peartree</td>\n",
       "      <td>NaN</td>\n",
       "      <td>St. Julian 2013 Reserve Late Harvest Riesling ...</td>\n",
       "      <td>Riesling</td>\n",
       "      <td>St. Julian</td>\n",
       "      <td>-0.395641</td>\n",
       "      <td>-1.077924</td>\n",
       "      <td>White</td>\n",
       "      <td>None</td>\n",
       "    </tr>\n",
       "    <tr>\n",
       "      <th>4</th>\n",
       "      <td>US</td>\n",
       "      <td>Much like the regular bottling from 2012, this...</td>\n",
       "      <td>Vintner's Reserve Wild Child Block</td>\n",
       "      <td>87</td>\n",
       "      <td>65.000000</td>\n",
       "      <td>Oregon</td>\n",
       "      <td>Willamette Valley</td>\n",
       "      <td>Willamette Valley</td>\n",
       "      <td>Paul Gregutt</td>\n",
       "      <td>@paulgwine</td>\n",
       "      <td>Sweet Cheeks 2012 Vintner's Reserve Wild Child...</td>\n",
       "      <td>Pinot Noir</td>\n",
       "      <td>Sweet Cheeks</td>\n",
       "      <td>-0.395641</td>\n",
       "      <td>2.445185</td>\n",
       "      <td>Red</td>\n",
       "      <td>Pinot</td>\n",
       "    </tr>\n",
       "  </tbody>\n",
       "</table>\n",
       "</div>"
      ],
      "text/plain": [
       "    country                                        description  \\\n",
       "0     Italy  Aromas include tropical fruit, broom, brimston...   \n",
       "1  Portugal  This is ripe and fruity, a wine that is smooth...   \n",
       "2        US  Tart and snappy, the flavors of lime flesh and...   \n",
       "3        US  Pineapple rind, lemon pith and orange blossom ...   \n",
       "4        US  Much like the regular bottling from 2012, this...   \n",
       "\n",
       "                          designation  points      price           province  \\\n",
       "0                        Vulkà Bianco      87  35.620914  Sicily & Sardinia   \n",
       "1                            Avidagos      87  15.000000              Douro   \n",
       "2                                 NaN      87  14.000000             Oregon   \n",
       "3                Reserve Late Harvest      87  13.000000           Michigan   \n",
       "4  Vintner's Reserve Wild Child Block      87  65.000000             Oregon   \n",
       "\n",
       "              region_1           region_2         taster_name  \\\n",
       "0                 Etna                NaN       Kerin O’Keefe   \n",
       "1                  NaN                NaN          Roger Voss   \n",
       "2    Willamette Valley  Willamette Valley        Paul Gregutt   \n",
       "3  Lake Michigan Shore                NaN  Alexander Peartree   \n",
       "4    Willamette Valley  Willamette Valley        Paul Gregutt   \n",
       "\n",
       "  taster_twitter_handle                                              title  \\\n",
       "0          @kerinokeefe                  Nicosia 2013 Vulkà Bianco  (Etna)   \n",
       "1            @vossroger      Quinta dos Avidagos 2011 Avidagos Red (Douro)   \n",
       "2           @paulgwine       Rainstorm 2013 Pinot Gris (Willamette Valley)   \n",
       "3                   NaN  St. Julian 2013 Reserve Late Harvest Riesling ...   \n",
       "4           @paulgwine   Sweet Cheeks 2012 Vintner's Reserve Wild Child...   \n",
       "\n",
       "          variety               winery  points_standardized  \\\n",
       "0     White Blend              Nicosia            -0.395641   \n",
       "1  Portuguese Red  Quinta dos Avidagos            -0.395641   \n",
       "2      Pinot Gris            Rainstorm            -0.395641   \n",
       "3        Riesling           St. Julian            -0.395641   \n",
       "4      Pinot Noir         Sweet Cheeks            -0.395641   \n",
       "\n",
       "   price_standardized   type variety_merged  \n",
       "0            0.454690  White          Blend  \n",
       "1           -0.942420    Red           None  \n",
       "2           -1.010172  White          Pinot  \n",
       "3           -1.077924  White           None  \n",
       "4            2.445185    Red          Pinot  "
      ]
     },
     "execution_count": 51,
     "metadata": {},
     "output_type": "execute_result"
    }
   ],
   "source": [
    "tmp_df = df[df[\"variety\"].isin(df_by_variety[\"variety\"].values)]\n",
    "tmp_df.head()"
   ]
  },
  {
   "cell_type": "code",
   "execution_count": 52,
   "metadata": {},
   "outputs": [
    {
     "data": {
      "text/html": [
       "<div>\n",
       "<style>\n",
       "    .dataframe thead tr:only-child th {\n",
       "        text-align: right;\n",
       "    }\n",
       "\n",
       "    .dataframe thead th {\n",
       "        text-align: left;\n",
       "    }\n",
       "\n",
       "    .dataframe tbody tr th {\n",
       "        vertical-align: top;\n",
       "    }\n",
       "</style>\n",
       "<table border=\"1\" class=\"dataframe\">\n",
       "  <thead>\n",
       "    <tr style=\"text-align: right;\">\n",
       "      <th></th>\n",
       "      <th>variety</th>\n",
       "      <th>avg_points</th>\n",
       "    </tr>\n",
       "  </thead>\n",
       "  <tbody>\n",
       "    <tr>\n",
       "      <th>38</th>\n",
       "      <td>Sangiovese Grosso</td>\n",
       "      <td>90.060150</td>\n",
       "    </tr>\n",
       "    <tr>\n",
       "      <th>17</th>\n",
       "      <td>Grüner Veltliner</td>\n",
       "      <td>89.926933</td>\n",
       "    </tr>\n",
       "    <tr>\n",
       "      <th>22</th>\n",
       "      <td>Nebbiolo</td>\n",
       "      <td>89.896658</td>\n",
       "    </tr>\n",
       "    <tr>\n",
       "      <th>35</th>\n",
       "      <td>Riesling</td>\n",
       "      <td>89.287033</td>\n",
       "    </tr>\n",
       "    <tr>\n",
       "      <th>29</th>\n",
       "      <td>Port</td>\n",
       "      <td>89.150943</td>\n",
       "    </tr>\n",
       "  </tbody>\n",
       "</table>\n",
       "</div>"
      ],
      "text/plain": [
       "              variety  avg_points\n",
       "38  Sangiovese Grosso   90.060150\n",
       "17   Grüner Veltliner   89.926933\n",
       "22           Nebbiolo   89.896658\n",
       "35           Riesling   89.287033\n",
       "29               Port   89.150943"
      ]
     },
     "execution_count": 52,
     "metadata": {},
     "output_type": "execute_result"
    }
   ],
   "source": [
    "tmp_df_avg = tmp_df.groupby(['variety'])[\"points\"].mean().reset_index(name='avg_points')\n",
    "tmp_df_avg_sorted = tmp_df_avg.sort_values(by=\"avg_points\", ascending=False, inplace=False, kind='quicksort', na_position='last')\n",
    "tmp_df_avg_sorted.head()"
   ]
  },
  {
   "cell_type": "code",
   "execution_count": 53,
   "metadata": {},
   "outputs": [
    {
     "data": {
      "image/png": "[encoded data removed]",
      "text/plain": [
       "<matplotlib.figure.Figure at 0x7f9cd0ced198>"
      ]
     },
     "metadata": {},
     "output_type": "display_data"
    }
   ],
   "source": [
    "# how to interpret box plots: https://www.wellbeingatschool.org.nz/sites/default/files/W@S_boxplot-labels.png\n",
    "plt.figure(figsize=(16,6))\n",
    "sns.boxplot(x = tmp_df[\"variety\"], y = tmp_df[\"points\"], order=tmp_df_avg_sorted[\"variety\"].values)\n",
    "plt.title(\"Variety-wise boxplot of points\")\n",
    "plt.xticks(rotation=90);"
   ]
  },
  {
   "cell_type": "markdown",
   "metadata": {},
   "source": [
    "#### A1:  Nebbiolo ####\n",
    "\n",
    "In the Top 3, we find 2 Italian Reds (\"Sangiovese Grosso\" and \"Nebbiolo\") and an lesser known Austrian White (\"Grüner Veltliner\").  While \"Sangiovese Grosso\" and \"Grüner Veltliner\" score slightly higher in terms of average score, we give the nod to \"Nebbiolo\" because it offers higher upside, with the same limited downside.  Buy a bottle of the \"Nebbiolo\" variety, and you can be confident that you'll get a quality wine, and if you're lucky you may get a truly great bottle.\n",
    "\n",
    "NOTE: Each of the Top 3 wines have at least 900 reviews, so it's not the result of a few extraordinarily positive reviews (or of a few specific reviewers - which matters a lot as we will learn later in this Notebook).\n",
    "\n",
    "Let's further investigate how much money we may want spend if we want to personally test our answer and try a wine of the \"Nebbiolo\" variety:"
   ]
  },
  {
   "cell_type": "code",
   "execution_count": 54,
   "metadata": {},
   "outputs": [
    {
     "data": {
      "text/plain": [
       "44.75227214968412"
      ]
     },
     "execution_count": 54,
     "metadata": {},
     "output_type": "execute_result"
    }
   ],
   "source": [
    "df[df[\"variety\"]==\"Nebbiolo\"][\"price\"].mean()"
   ]
  },
  {
   "cell_type": "code",
   "execution_count": 55,
   "metadata": {},
   "outputs": [
    {
     "data": {
      "image/png": "[encoded data removed]",
      "text/plain": [
       "<matplotlib.figure.Figure at 0x7f9cd093be48>"
      ]
     },
     "metadata": {},
     "output_type": "display_data"
    }
   ],
   "source": [
    "plt.figure(figsize=(16,6))\n",
    "sns.boxplot(x = df[df[\"variety\"]==\"Nebbiolo\"][\"price\"], y = df[df[\"variety\"]==\"Nebbiolo\"][\"points\"])\n",
    "plt.title(\"Price-wise boxplot of points\")\n",
    "plt.xticks(rotation=90);"
   ]
  },
  {
   "cell_type": "markdown",
   "metadata": {},
   "source": [
    "It looks like we should be willing to spend over 50 USD if we want to be confident of having a quality bottle of wine, while also giving opportunity to get a truly great bottle."
   ]
  },
  {
   "cell_type": "markdown",
   "metadata": {},
   "source": [
    "We've answered our question per \"variety\", but let's continue to explore the data.  We can find out whether our simple attempt of merging varieties is helpful as it relates to mean scores, and whether wines score higher by \"country\", etc...:"
   ]
  },
  {
   "cell_type": "code",
   "execution_count": 56,
   "metadata": {},
   "outputs": [
    {
     "data": {
      "image/png": "[encoded data removed]",
      "text/plain": [
       "<matplotlib.figure.Figure at 0x7f9cc83ef4a8>"
      ]
     },
     "metadata": {},
     "output_type": "display_data"
    }
   ],
   "source": [
    "plt.figure(figsize=(16,6))\n",
    "sns.boxplot(x = df[\"variety_merged\"], y = df[\"points\"])\n",
    "plt.title(\"MergedVariety-wise boxplot of points\")\n",
    "plt.xticks(rotation=90);"
   ]
  },
  {
   "cell_type": "code",
   "execution_count": 57,
   "metadata": {},
   "outputs": [
    {
     "data": {
      "image/png": "[encoded data removed]",
      "text/plain": [
       "<matplotlib.figure.Figure at 0x7f9cd032f7b8>"
      ]
     },
     "metadata": {},
     "output_type": "display_data"
    }
   ],
   "source": [
    "plt.figure(figsize=(16,6))\n",
    "sns.boxplot(x = df[\"type\"], y = df[\"points\"])\n",
    "plt.title(\"Type-wise boxplot of points\")\n",
    "plt.xticks(rotation=90);"
   ]
  },
  {
   "cell_type": "code",
   "execution_count": 58,
   "metadata": {},
   "outputs": [
    {
     "data": {
      "image/png": "[encoded data removed]",
      "text/plain": [
       "<matplotlib.figure.Figure at 0x7f9cd0b9d4e0>"
      ]
     },
     "metadata": {},
     "output_type": "display_data"
    }
   ],
   "source": [
    "plt.figure(figsize=(16,6))\n",
    "sns.boxplot(x = df[\"country\"], y = df[\"points\"])\n",
    "plt.title(\"Country-wise boxplot of points\")\n",
    "plt.xticks(rotation=90);"
   ]
  },
  {
   "cell_type": "markdown",
   "metadata": {},
   "source": [
    "Much to be expected here (good showings for France and the U.S.-thank you California!), however I am somewhat surprised by the poor Spanish results (my favorites wines are Spanish Riojas). I am very surprised by the poor Mexico results; I lived in Baja California for ~3 years, and Mexican wines are definitely under-appreciated. We've already observed that Whites do score on-par with Reds, so it *could* be that the Mexican Whites (which are admittedly poor) are impacting the overall country score.  Well, since we have the data, let's investigate that theory..."
   ]
  },
  {
   "cell_type": "code",
   "execution_count": 59,
   "metadata": {},
   "outputs": [
    {
     "data": {
      "text/plain": [
       "(66, 17)"
      ]
     },
     "execution_count": 59,
     "metadata": {},
     "output_type": "execute_result"
    }
   ],
   "source": [
    "df_mex = df[df[\"country\"]==\"Mexico\"]\n",
    "df_mex.shape"
   ]
  },
  {
   "cell_type": "code",
   "execution_count": 60,
   "metadata": {},
   "outputs": [
    {
     "data": {
      "image/png": "[encoded data removed]",
      "text/plain": [
       "<matplotlib.figure.Figure at 0x7f9cd0abb908>"
      ]
     },
     "metadata": {},
     "output_type": "display_data"
    }
   ],
   "source": [
    "plt.figure(figsize=(16,6))\n",
    "sns.boxplot(x = df_mex[\"type\"], y = df_mex[\"points\"])\n",
    "plt.title(\"Type-wise boxplot of points (for Mexico)\")\n",
    "plt.xticks(rotation=90);"
   ]
  },
  {
   "cell_type": "markdown",
   "metadata": {},
   "source": [
    "Admittedly, we have a relatively small sample size of 66 reviews, however, it does appear that our assumption was correct: Mexican Whites (and Roses) are dragging down the overall country rating.  Personally, I very much enjoy and recommend Mexican Reds, especially of the Tempranillo or Cabernet varieties, and especially from La \"Valle de Guadalupe\"."
   ]
  },
  {
   "cell_type": "markdown",
   "metadata": {},
   "source": [
    "#### Q2. Is there an optimal price range, such that you can have confidence that the price corresponds to relative quality?  #### \n",
    "\n",
    "Prior to examining this data, I've assumed a range of 15-35 USD.  Let's investigate whether a range exists, and what that optimal price range is..."
   ]
  },
  {
   "cell_type": "markdown",
   "metadata": {},
   "source": [
    "We can begin by simply plotting points over price:"
   ]
  },
  {
   "cell_type": "code",
   "execution_count": 61,
   "metadata": {
    "collapsed": true
   },
   "outputs": [],
   "source": [
    "def plot_scatter(df, col_x, col_y):\n",
    "    N = df.shape[0]\n",
    "    colors = np.random.rand(N)\n",
    "    #area = (30 * np.random.rand(N))**2  # 0 to 15 point radii\n",
    "    plt.scatter(df[col_x], df[col_y], c=colors, alpha=0.5)\n",
    "    plt.xlabel(col_x)\n",
    "    plt.ylabel(col_y)\n",
    "    plt.show()"
   ]
  },
  {
   "cell_type": "code",
   "execution_count": 62,
   "metadata": {},
   "outputs": [
    {
     "data": {
      "image/png": "[encoded data removed]",
      "text/plain": [
       "<matplotlib.figure.Figure at 0x7f9cd0689a90>"
      ]
     },
     "metadata": {},
     "output_type": "display_data"
    }
   ],
   "source": [
    "plot_scatter(df, \"price\", \"points\")"
   ]
  },
  {
   "cell_type": "markdown",
   "metadata": {},
   "source": [
    "Unfortunately this chart doesn't tell us much; it would have been helpful had we not removed the outliers, but after doing so we're much better off plotting a linear regression:"
   ]
  },
  {
   "cell_type": "code",
   "execution_count": 63,
   "metadata": {},
   "outputs": [
    {
     "data": {
      "text/plain": [
       "<matplotlib.axes._subplots.AxesSubplot at 0x7f9cd05862e8>"
      ]
     },
     "execution_count": 63,
     "metadata": {},
     "output_type": "execute_result"
    },
    {
     "data": {
      "image/png": "[encoded data removed]",
      "text/plain": [
       "<matplotlib.figure.Figure at 0x7f9cd0b3ea20>"
      ]
     },
     "metadata": {},
     "output_type": "display_data"
    }
   ],
   "source": [
    "sns.regplot(x=\"price\", y=\"points\", x_estimator=np.mean, data=df)"
   ]
  },
  {
   "cell_type": "markdown",
   "metadata": {},
   "source": [
    "Based on this regression plot, we see that \"prices\" between 20 and 60 USD correlate to their respective \"point\" expectations.  My previous assumption was a range between 15 and 35 USD, and it looks like it's safe to open up my wallet a bit more and expect to get a higher quality wine the more that I spend up until about the 60 USD pricepoint."
   ]
  },
  {
   "cell_type": "markdown",
   "metadata": {},
   "source": [
    "Let's plot my initial assumption:"
   ]
  },
  {
   "cell_type": "code",
   "execution_count": 64,
   "metadata": {},
   "outputs": [
    {
     "data": {
      "text/plain": [
       "<matplotlib.axes._subplots.AxesSubplot at 0x7f9cd0558828>"
      ]
     },
     "execution_count": 64,
     "metadata": {},
     "output_type": "execute_result"
    },
    {
     "data": {
      "image/png": "[encoded data removed]",
      "text/plain": [
       "<matplotlib.figure.Figure at 0x7f9cd05e4eb8>"
      ]
     },
     "metadata": {},
     "output_type": "display_data"
    }
   ],
   "source": [
    "sns.regplot(x=\"price\", y=\"points\", x_estimator=np.mean, data=df[(df[\"price\"] <= 35) & (df[\"price\"] >= 15)])"
   ]
  },
  {
   "cell_type": "markdown",
   "metadata": {},
   "source": [
    "It looks like even a 15 USD bottle of wine can be a risky purchase!  Now let's look more closely at the optimal range:"
   ]
  },
  {
   "cell_type": "code",
   "execution_count": 65,
   "metadata": {
    "scrolled": true
   },
   "outputs": [
    {
     "data": {
      "text/plain": [
       "<matplotlib.axes._subplots.AxesSubplot at 0x7f9cd06c4908>"
      ]
     },
     "execution_count": 65,
     "metadata": {},
     "output_type": "execute_result"
    },
    {
     "data": {
      "image/png": "[encoded data removed]",
      "text/plain": [
       "<matplotlib.figure.Figure at 0x7f9cd05e5eb8>"
      ]
     },
     "metadata": {},
     "output_type": "display_data"
    }
   ],
   "source": [
    "sns.regplot(x=\"price\", y=\"points\", x_estimator=np.mean, data=df[(df[\"price\"] <= 60) & (df[\"price\"] >= 20)])"
   ]
  },
  {
   "cell_type": "markdown",
   "metadata": {},
   "source": [
    "After a closer look, it appears that we should restrict the range to between 30 and 50 USD, with the best chance for \"upside\" coming around the 45 USD pricepoint."
   ]
  },
  {
   "cell_type": "markdown",
   "metadata": {},
   "source": [
    "#### A2: An optimal price range seems to be 30-50 USD, with the most \"upside\" coming from a 45 USD bottle.  ####\n",
    "\n",
    "However, even if you don't want to spend that much, you can still be confident that you'll get a decent bottle when spending more than 20 (and less than 60)."
   ]
  },
  {
   "cell_type": "markdown",
   "metadata": {},
   "source": [
    "#### Q3. How does my favorite \"winery\" (CVNE: Compañía Vinícola del Norte de España) compare to others? ####"
   ]
  },
  {
   "cell_type": "code",
   "execution_count": 66,
   "metadata": {},
   "outputs": [
    {
     "data": {
      "text/plain": [
       "(111429, 17)"
      ]
     },
     "execution_count": 66,
     "metadata": {},
     "output_type": "execute_result"
    }
   ],
   "source": [
    "df.shape"
   ]
  },
  {
   "cell_type": "code",
   "execution_count": 67,
   "metadata": {},
   "outputs": [
    {
     "data": {
      "text/plain": [
       "(41, 17)"
      ]
     },
     "execution_count": 67,
     "metadata": {},
     "output_type": "execute_result"
    }
   ],
   "source": [
    "winery_filter = df[\"winery\"].astype(str).str.lower().str.contains(\"cvne\")\n",
    "df_cvne = df[winery_filter]\n",
    "df_cvne.shape"
   ]
  },
  {
   "cell_type": "code",
   "execution_count": 68,
   "metadata": {},
   "outputs": [
    {
     "data": {
      "text/plain": [
       "(111388, 17)"
      ]
     },
     "execution_count": 68,
     "metadata": {},
     "output_type": "execute_result"
    }
   ],
   "source": [
    "df_sans_cvne = pd.concat([df, df_cvne, df_cvne]).drop_duplicates(keep=False)\n",
    "df_sans_cvne.shape"
   ]
  },
  {
   "cell_type": "code",
   "execution_count": 69,
   "metadata": {},
   "outputs": [
    {
     "data": {
      "text/plain": [
       "88.7560975609756"
      ]
     },
     "execution_count": 69,
     "metadata": {},
     "output_type": "execute_result"
    }
   ],
   "source": [
    "df_cvne[\"points\"].mean()"
   ]
  },
  {
   "cell_type": "code",
   "execution_count": 70,
   "metadata": {},
   "outputs": [
    {
     "data": {
      "text/plain": [
       "88.16411103530004"
      ]
     },
     "execution_count": 70,
     "metadata": {},
     "output_type": "execute_result"
    }
   ],
   "source": [
    "df_sans_cvne[\"points\"].mean()"
   ]
  },
  {
   "cell_type": "markdown",
   "metadata": {},
   "source": [
    "CVNE outperforms the average \"winery\", but let's only compare CVNE Reds against the average Red..."
   ]
  },
  {
   "cell_type": "code",
   "execution_count": 71,
   "metadata": {},
   "outputs": [
    {
     "data": {
      "text/plain": [
       "(31, 17)"
      ]
     },
     "execution_count": 71,
     "metadata": {},
     "output_type": "execute_result"
    }
   ],
   "source": [
    "df_cvne_reds = df_cvne[df_cvne[\"type\"]==\"Red\"]\n",
    "df_cvne_reds.shape"
   ]
  },
  {
   "cell_type": "code",
   "execution_count": 72,
   "metadata": {},
   "outputs": [
    {
     "data": {
      "text/plain": [
       "(60190, 17)"
      ]
     },
     "execution_count": 72,
     "metadata": {},
     "output_type": "execute_result"
    }
   ],
   "source": [
    "df_sans_cvne_reds = df_sans_cvne[df_sans_cvne[\"type\"]==\"Red\"]\n",
    "df_sans_cvne_reds.shape"
   ]
  },
  {
   "cell_type": "code",
   "execution_count": 73,
   "metadata": {},
   "outputs": [
    {
     "data": {
      "text/plain": [
       "89.64516129032258"
      ]
     },
     "execution_count": 73,
     "metadata": {},
     "output_type": "execute_result"
    }
   ],
   "source": [
    "df_cvne_reds[\"points\"].mean()"
   ]
  },
  {
   "cell_type": "code",
   "execution_count": 74,
   "metadata": {},
   "outputs": [
    {
     "data": {
      "text/plain": [
       "88.38087722212993"
      ]
     },
     "execution_count": 74,
     "metadata": {},
     "output_type": "execute_result"
    }
   ],
   "source": [
    "df_sans_cvne_reds[\"points\"].mean()"
   ]
  },
  {
   "cell_type": "code",
   "execution_count": 75,
   "metadata": {
    "collapsed": true
   },
   "outputs": [],
   "source": [
    "df_cvne[\"is_cvne\"] = True\n",
    "df_sans_cvne[\"is_cvne\"] = False\n",
    "df_concat = pd.concat([df_cvne, df_sans_cvne])"
   ]
  },
  {
   "cell_type": "code",
   "execution_count": 76,
   "metadata": {},
   "outputs": [
    {
     "data": {
      "image/png": "[encoded data removed]",
      "text/plain": [
       "<matplotlib.figure.Figure at 0x7f9cd0586208>"
      ]
     },
     "metadata": {},
     "output_type": "display_data"
    }
   ],
   "source": [
    "plt.figure(figsize=(16,6))\n",
    "colors = [\"#acdffe\",\"#97020e\"]\n",
    "sns.boxplot(x=df_concat[\"type\"], y = df_concat[\"points\"], hue=df_concat[\"is_cvne\"], palette=sns.color_palette(colors))\n",
    "plt.title(\"Type-wise boxplot of points (for All Wineries vs CVNE)\")\n",
    "plt.xticks(rotation=90);"
   ]
  },
  {
   "cell_type": "markdown",
   "metadata": {},
   "source": [
    "#### A3: CVNE does outperform other wineries (88.75 vs 88.16),  and even more significantly when comparing Reds only (89.64 vs 88.38) ####"
   ]
  },
  {
   "cell_type": "markdown",
   "metadata": {},
   "source": [
    "So what are the highest rated wineries?"
   ]
  },
  {
   "cell_type": "code",
   "execution_count": 77,
   "metadata": {},
   "outputs": [
    {
     "data": {
      "text/plain": [
       "(15, 2)"
      ]
     },
     "execution_count": 77,
     "metadata": {},
     "output_type": "execute_result"
    }
   ],
   "source": [
    "df_by_winery = df.groupby([\"winery\"]).size().reset_index(name=\"count\")\n",
    "# again, let's require a certain amount of entries: 100\n",
    "df_by_winery = df_by_winery[df_by_winery[\"count\"]>100]\n",
    "df_by_winery.shape"
   ]
  },
  {
   "cell_type": "code",
   "execution_count": 78,
   "metadata": {
    "collapsed": true
   },
   "outputs": [],
   "source": [
    "tmp_df = df[df[\"winery\"].isin(df_by_winery[\"winery\"].values)]\n",
    "tmp_df_avg = tmp_df.groupby([\"winery\"])[\"points\"].mean().reset_index(name=\"avg_points\")\n",
    "tmp_df_avg_sorted = tmp_df_avg.sort_values(by=\"avg_points\", ascending=False, inplace=False, kind='quicksort', na_position='last')"
   ]
  },
  {
   "cell_type": "code",
   "execution_count": 79,
   "metadata": {},
   "outputs": [
    {
     "data": {
      "image/png": "[encoded data removed]",
      "text/plain": [
       "<matplotlib.figure.Figure at 0x7f9cd0ceb630>"
      ]
     },
     "metadata": {},
     "output_type": "display_data"
    }
   ],
   "source": [
    "plt.figure(figsize=(16,6))\n",
    "sns.boxplot(x = tmp_df[\"winery\"], y = tmp_df[\"points\"], order=tmp_df_avg_sorted[\"winery\"].values)\n",
    "plt.title(\"Winery-wise boxplot of points\")\n",
    "plt.xticks(rotation=90);"
   ]
  },
  {
   "cell_type": "markdown",
   "metadata": {},
   "source": [
    "#### Other interesting visualizations ####"
   ]
  },
  {
   "cell_type": "code",
   "execution_count": 80,
   "metadata": {},
   "outputs": [
    {
     "data": {
      "text/plain": [
       "<seaborn.axisgrid.JointGrid at 0x7f9cd05933c8>"
      ]
     },
     "execution_count": 80,
     "metadata": {},
     "output_type": "execute_result"
    },
    {
     "data": {
      "image/png": "[encoded data removed]",
      "text/plain": [
       "<matplotlib.figure.Figure at 0x7f9cd05934a8>"
      ]
     },
     "metadata": {},
     "output_type": "display_data"
    }
   ],
   "source": [
    "sns.jointplot(x='price', y='points', data=df, kind='hex', gridsize=20)"
   ]
  },
  {
   "cell_type": "code",
   "execution_count": 81,
   "metadata": {},
   "outputs": [
    {
     "data": {
      "image/png": "[encoded data removed]",
      "text/plain": [
       "<matplotlib.figure.Figure at 0x7f9cd086d860>"
      ]
     },
     "metadata": {},
     "output_type": "display_data"
    }
   ],
   "source": [
    "df_country = df.groupby([\"country\"]).mean()[\"price\"].sort_values(ascending=False).to_frame()\n",
    "plt.figure(figsize=(16,6))\n",
    "sns.pointplot(x = df_country[\"price\"] , y = df_country.index ,color=\"#97020e\",orient='h',markers='o')\n",
    "plt.title('Country-wise average wine price')\n",
    "plt.xlabel(\"price\")\n",
    "plt.ylabel(\"country\");"
   ]
  },
  {
   "cell_type": "code",
   "execution_count": 82,
   "metadata": {},
   "outputs": [
    {
     "data": {
      "text/html": [
       "<div>\n",
       "<style>\n",
       "    .dataframe thead tr:only-child th {\n",
       "        text-align: right;\n",
       "    }\n",
       "\n",
       "    .dataframe thead th {\n",
       "        text-align: left;\n",
       "    }\n",
       "\n",
       "    .dataframe tbody tr th {\n",
       "        vertical-align: top;\n",
       "    }\n",
       "</style>\n",
       "<table border=\"1\" class=\"dataframe\">\n",
       "  <thead>\n",
       "    <tr style=\"text-align: right;\">\n",
       "      <th></th>\n",
       "      <th>price</th>\n",
       "    </tr>\n",
       "    <tr>\n",
       "      <th>country</th>\n",
       "      <th></th>\n",
       "    </tr>\n",
       "  </thead>\n",
       "  <tbody>\n",
       "    <tr>\n",
       "      <th>England</th>\n",
       "      <td>46.197805</td>\n",
       "    </tr>\n",
       "    <tr>\n",
       "      <th>Egypt</th>\n",
       "      <td>35.620914</td>\n",
       "    </tr>\n",
       "    <tr>\n",
       "      <th>US</th>\n",
       "      <td>31.728170</td>\n",
       "    </tr>\n",
       "    <tr>\n",
       "      <th>Canada</th>\n",
       "      <td>31.690152</td>\n",
       "    </tr>\n",
       "    <tr>\n",
       "      <th>Italy</th>\n",
       "      <td>31.066917</td>\n",
       "    </tr>\n",
       "  </tbody>\n",
       "</table>\n",
       "</div>"
      ],
      "text/plain": [
       "             price\n",
       "country           \n",
       "England  46.197805\n",
       "Egypt    35.620914\n",
       "US       31.728170\n",
       "Canada   31.690152\n",
       "Italy    31.066917"
      ]
     },
     "execution_count": 82,
     "metadata": {},
     "output_type": "execute_result"
    }
   ],
   "source": [
    "df_country.head()"
   ]
  },
  {
   "cell_type": "markdown",
   "metadata": {},
   "source": [
    "After removing outliers, England has significantly more expensive wines; on average, 30% more than the next most expensive country (Egypt) !!"
   ]
  },
  {
   "cell_type": "markdown",
   "metadata": {},
   "source": [
    "FacetGrid plots make for useful comparison visualizations:"
   ]
  },
  {
   "cell_type": "code",
   "execution_count": 83,
   "metadata": {},
   "outputs": [
    {
     "data": {
      "text/plain": [
       "<seaborn.axisgrid.FacetGrid at 0x7f9cd071c5f8>"
      ]
     },
     "execution_count": 83,
     "metadata": {},
     "output_type": "execute_result"
    },
    {
     "data": {
      "image/png": "[encoded data removed]",
      "text/plain": [
       "<matplotlib.figure.Figure at 0x7f9cd09c71d0>"
      ]
     },
     "metadata": {},
     "output_type": "display_data"
    }
   ],
   "source": [
    "df_price = df[df[\"price\"] <= 50]\n",
    "tmp_df = df_price[df_price['country'].isin(['US','France', 'Canada', 'Spain'])]\n",
    "g = sns.FacetGrid(tmp_df, col = \"country\", col_wrap = 2)\n",
    "g.map(sns.kdeplot, \"price\")"
   ]
  },
  {
   "cell_type": "markdown",
   "metadata": {},
   "source": [
    "Go ahead! Try to find a 30 USD bottle of wine in France"
   ]
  },
  {
   "cell_type": "markdown",
   "metadata": {},
   "source": [
    "<a id=\"model\"></a>"
   ]
  },
  {
   "cell_type": "markdown",
   "metadata": {},
   "source": [
    "### MODEL the data ###"
   ]
  },
  {
   "cell_type": "markdown",
   "metadata": {},
   "source": [
    "#### Q4. Which features best determine the score of a wine? ####\n",
    "\n",
    "In order to answer our final question, we want to apply some shallow machine learning to train a Decision Tree (DT) regression model to produce feature scores (using the CatBoost algorithm):"
   ]
  },
  {
   "cell_type": "markdown",
   "metadata": {},
   "source": [
    "#### CATBOOST ####"
   ]
  },
  {
   "cell_type": "code",
   "execution_count": 84,
   "metadata": {},
   "outputs": [
    {
     "name": "stdout",
     "output_type": "stream",
     "text": [
      "Requirement already satisfied: catboost in /home/zmccoy/anaconda3/lib/python3.6/site-packages (0.11.1)\r\n",
      "Requirement already satisfied: pandas>=0.19.1 in /home/zmccoy/anaconda3/lib/python3.6/site-packages (from catboost) (0.20.3)\r\n",
      "Requirement already satisfied: enum34 in /home/zmccoy/anaconda3/lib/python3.6/site-packages (from catboost) (1.1.6)\r\n",
      "Requirement already satisfied: numpy>=1.11.1 in /home/zmccoy/anaconda3/lib/python3.6/site-packages (from catboost) (1.14.2)\r\n",
      "Requirement already satisfied: six in /home/zmccoy/anaconda3/lib/python3.6/site-packages (from catboost) (1.11.0)\r\n",
      "Requirement already satisfied: python-dateutil>=2 in /home/zmccoy/anaconda3/lib/python3.6/site-packages (from pandas>=0.19.1->catboost) (2.6.1)\r\n",
      "Requirement already satisfied: pytz>=2011k in /home/zmccoy/anaconda3/lib/python3.6/site-packages (from pandas>=0.19.1->catboost) (2017.2)\r\n"
     ]
    }
   ],
   "source": [
    "!pip install catboost"
   ]
  },
  {
   "cell_type": "code",
   "execution_count": 85,
   "metadata": {
    "collapsed": true
   },
   "outputs": [],
   "source": [
    "df[\"variety_merged\"].replace(np.NaN, 'Unknown', inplace=True)"
   ]
  },
  {
   "cell_type": "code",
   "execution_count": 86,
   "metadata": {
    "collapsed": true
   },
   "outputs": [],
   "source": [
    "from sklearn.model_selection import train_test_split\n",
    "from catboost import CatBoostRegressor, Pool\n",
    "\n",
    "X=df.drop([\"points\",\"points_standardized\",\"price_standardized\"], axis=1)\n",
    "X=X.fillna(-1)\n",
    "categorical_features_indices = categorical_features_indices = np.where(X.dtypes != np.float)[0]\n",
    "y=df['points']\n",
    "X_train, X_test, y_train, y_test = train_test_split(X, y, test_size=0.2, random_state=42)\n",
    "X_train, X_valid, y_train, y_valid = train_test_split(X_train, y_train, test_size=0.2, random_state=52)"
   ]
  },
  {
   "cell_type": "code",
   "execution_count": 87,
   "metadata": {
    "collapsed": true
   },
   "outputs": [],
   "source": [
    "def perform_model(X_train, y_train,X_valid, y_valid,X_test, y_test):\n",
    "    model = CatBoostRegressor(\n",
    "        random_seed = 400,\n",
    "        loss_function = 'RMSE',\n",
    "        iterations=400,\n",
    "    )\n",
    "    \n",
    "    model.fit(\n",
    "        X_train, y_train,\n",
    "        cat_features = categorical_features_indices,\n",
    "        eval_set=(X_valid, y_valid),\n",
    "        verbose=False,\n",
    "        #plot=True\n",
    "    )\n",
    "    \n",
    "    print(\"RMSE on training data: \"+ model.score(X_train, y_train).astype(str))\n",
    "    print(\"RMSE on test data: \"+ model.score(X_test, y_test).astype(str))\n",
    "    \n",
    "    return model"
   ]
  },
  {
   "cell_type": "code",
   "execution_count": 88,
   "metadata": {},
   "outputs": [
    {
     "name": "stdout",
     "output_type": "stream",
     "text": [
      "RMSE on training data: 1.8925670558168568\n",
      "RMSE on test data: 2.0800437113650396\n"
     ]
    }
   ],
   "source": [
    "model = perform_model(X_train, y_train, X_valid, y_valid, X_test, y_test)"
   ]
  },
  {
   "cell_type": "code",
   "execution_count": 89,
   "metadata": {
    "collapsed": true
   },
   "outputs": [],
   "source": [
    "feature_score = pd.DataFrame(list(zip(X.dtypes.index, model.get_feature_importance(Pool(X, label=y, cat_features=categorical_features_indices)))),\n",
    "                columns=['Feature','Score'])\n",
    "\n",
    "feature_score = feature_score.sort_values(by='Score', ascending=False, inplace=False, kind='quicksort', na_position='last')"
   ]
  },
  {
   "cell_type": "code",
   "execution_count": 90,
   "metadata": {},
   "outputs": [
    {
     "data": {
      "image/png": "[encoded data removed]",
      "text/plain": [
       "<matplotlib.figure.Figure at 0x7f9cc8234048>"
      ]
     },
     "metadata": {},
     "output_type": "display_data"
    }
   ],
   "source": [
    "plt.rcParams[\"figure.figsize\"] = (12,7)\n",
    "ax = feature_score.plot('Feature', 'Score', kind='bar', color='c')\n",
    "ax.set_title(\"Catboost Feature Importance Ranking\", fontsize = 14)\n",
    "ax.set_xlabel('')\n",
    "\n",
    "rects = ax.patches\n",
    "\n",
    "labels = feature_score['Score'].round(2)\n",
    "\n",
    "for rect, label in zip(rects, labels):\n",
    "    height = rect.get_height()\n",
    "    ax.text(rect.get_x() + rect.get_width()/2, height + 0.35, label, ha='center', va='bottom')\n",
    "\n",
    "plt.show()"
   ]
  },
  {
   "cell_type": "markdown",
   "metadata": {},
   "source": [
    "#### A4. Price, but surprisingly followed by Taster identifier (\"taster_twitter_handle\") ####\n",
    "\n",
    "It's not unexpected to see that \"price\" is the most important feature with respect to \"points\" value.  However, it is very unexpected to find that the second most important feature is the Taster identifier (\"taster_twitter_handle\"); this indicates that Taster bias plays a significant role in \"points\" score.\n",
    "\n",
    "Let's take a closer look at these Tasters..."
   ]
  },
  {
   "cell_type": "code",
   "execution_count": 91,
   "metadata": {},
   "outputs": [
    {
     "data": {
      "text/plain": [
       "15"
      ]
     },
     "execution_count": 91,
     "metadata": {},
     "output_type": "execute_result"
    }
   ],
   "source": [
    "df[\"taster_twitter_handle\"].nunique()"
   ]
  },
  {
   "cell_type": "code",
   "execution_count": 92,
   "metadata": {},
   "outputs": [
    {
     "data": {
      "text/html": [
       "<div>\n",
       "<style>\n",
       "    .dataframe thead tr:only-child th {\n",
       "        text-align: right;\n",
       "    }\n",
       "\n",
       "    .dataframe thead th {\n",
       "        text-align: left;\n",
       "    }\n",
       "\n",
       "    .dataframe tbody tr th {\n",
       "        vertical-align: top;\n",
       "    }\n",
       "</style>\n",
       "<table border=\"1\" class=\"dataframe\">\n",
       "  <thead>\n",
       "    <tr style=\"text-align: right;\">\n",
       "      <th></th>\n",
       "      <th>taster_twitter_handle</th>\n",
       "      <th>count</th>\n",
       "    </tr>\n",
       "  </thead>\n",
       "  <tbody>\n",
       "    <tr>\n",
       "      <th>0</th>\n",
       "      <td>@AnneInVino</td>\n",
       "      <td>3179</td>\n",
       "    </tr>\n",
       "    <tr>\n",
       "      <th>1</th>\n",
       "      <td>@JoeCz</td>\n",
       "      <td>4335</td>\n",
       "    </tr>\n",
       "    <tr>\n",
       "      <th>2</th>\n",
       "      <td>@bkfiona</td>\n",
       "      <td>22</td>\n",
       "    </tr>\n",
       "    <tr>\n",
       "      <th>3</th>\n",
       "      <td>@gordone_cellars</td>\n",
       "      <td>3683</td>\n",
       "    </tr>\n",
       "    <tr>\n",
       "      <th>4</th>\n",
       "      <td>@kerinokeefe</td>\n",
       "      <td>8584</td>\n",
       "    </tr>\n",
       "    <tr>\n",
       "      <th>5</th>\n",
       "      <td>@laurbuzz</td>\n",
       "      <td>1649</td>\n",
       "    </tr>\n",
       "    <tr>\n",
       "      <th>6</th>\n",
       "      <td>@mattkettmann</td>\n",
       "      <td>5503</td>\n",
       "    </tr>\n",
       "    <tr>\n",
       "      <th>7</th>\n",
       "      <td>@paulgwine</td>\n",
       "      <td>8496</td>\n",
       "    </tr>\n",
       "    <tr>\n",
       "      <th>8</th>\n",
       "      <td>@suskostrzewa</td>\n",
       "      <td>1006</td>\n",
       "    </tr>\n",
       "    <tr>\n",
       "      <th>9</th>\n",
       "      <td>@vboone</td>\n",
       "      <td>7457</td>\n",
       "    </tr>\n",
       "    <tr>\n",
       "      <th>10</th>\n",
       "      <td>@vossroger</td>\n",
       "      <td>21720</td>\n",
       "    </tr>\n",
       "    <tr>\n",
       "      <th>11</th>\n",
       "      <td>@wawinereport</td>\n",
       "      <td>4226</td>\n",
       "    </tr>\n",
       "    <tr>\n",
       "      <th>12</th>\n",
       "      <td>@wineschach</td>\n",
       "      <td>13367</td>\n",
       "    </tr>\n",
       "    <tr>\n",
       "      <th>13</th>\n",
       "      <td>@winewchristina</td>\n",
       "      <td>6</td>\n",
       "    </tr>\n",
       "    <tr>\n",
       "      <th>14</th>\n",
       "      <td>@worldwineguys</td>\n",
       "      <td>875</td>\n",
       "    </tr>\n",
       "  </tbody>\n",
       "</table>\n",
       "</div>"
      ],
      "text/plain": [
       "   taster_twitter_handle  count\n",
       "0            @AnneInVino   3179\n",
       "1                 @JoeCz   4335\n",
       "2               @bkfiona     22\n",
       "3       @gordone_cellars   3683\n",
       "4           @kerinokeefe   8584\n",
       "5              @laurbuzz   1649\n",
       "6          @mattkettmann   5503\n",
       "7            @paulgwine    8496\n",
       "8          @suskostrzewa   1006\n",
       "9                @vboone   7457\n",
       "10            @vossroger  21720\n",
       "11         @wawinereport   4226\n",
       "12           @wineschach  13367\n",
       "13       @winewchristina      6\n",
       "14        @worldwineguys    875"
      ]
     },
     "execution_count": 92,
     "metadata": {},
     "output_type": "execute_result"
    }
   ],
   "source": [
    "df.groupby([\"taster_twitter_handle\"]).size().reset_index(name=\"count\")"
   ]
  },
  {
   "cell_type": "code",
   "execution_count": 93,
   "metadata": {},
   "outputs": [
    {
     "data": {
      "text/html": [
       "<div>\n",
       "<style>\n",
       "    .dataframe thead tr:only-child th {\n",
       "        text-align: right;\n",
       "    }\n",
       "\n",
       "    .dataframe thead th {\n",
       "        text-align: left;\n",
       "    }\n",
       "\n",
       "    .dataframe tbody tr th {\n",
       "        vertical-align: top;\n",
       "    }\n",
       "</style>\n",
       "<table border=\"1\" class=\"dataframe\">\n",
       "  <thead>\n",
       "    <tr style=\"text-align: right;\">\n",
       "      <th></th>\n",
       "      <th>points</th>\n",
       "      <th>price</th>\n",
       "      <th>points_standardized</th>\n",
       "      <th>price_standardized</th>\n",
       "    </tr>\n",
       "    <tr>\n",
       "      <th>taster_twitter_handle</th>\n",
       "      <th></th>\n",
       "      <th></th>\n",
       "      <th></th>\n",
       "      <th></th>\n",
       "    </tr>\n",
       "  </thead>\n",
       "  <tbody>\n",
       "    <tr>\n",
       "      <th>@AnneInVino</th>\n",
       "      <td>90.505190</td>\n",
       "      <td>29.717116</td>\n",
       "      <td>0.795429</td>\n",
       "      <td>0.054695</td>\n",
       "    </tr>\n",
       "    <tr>\n",
       "      <th>@JoeCz</th>\n",
       "      <td>88.169319</td>\n",
       "      <td>26.036160</td>\n",
       "      <td>0.001696</td>\n",
       "      <td>-0.194697</td>\n",
       "    </tr>\n",
       "    <tr>\n",
       "      <th>@bkfiona</th>\n",
       "      <td>86.818182</td>\n",
       "      <td>27.681818</td>\n",
       "      <td>-0.457423</td>\n",
       "      <td>-0.083200</td>\n",
       "    </tr>\n",
       "    <tr>\n",
       "      <th>@gordone_cellars</th>\n",
       "      <td>88.510996</td>\n",
       "      <td>25.343498</td>\n",
       "      <td>0.117798</td>\n",
       "      <td>-0.241627</td>\n",
       "    </tr>\n",
       "    <tr>\n",
       "      <th>@kerinokeefe</th>\n",
       "      <td>88.579800</td>\n",
       "      <td>32.275650</td>\n",
       "      <td>0.141178</td>\n",
       "      <td>0.228041</td>\n",
       "    </tr>\n",
       "    <tr>\n",
       "      <th>@laurbuzz</th>\n",
       "      <td>87.570042</td>\n",
       "      <td>22.641157</td>\n",
       "      <td>-0.201940</td>\n",
       "      <td>-0.424716</td>\n",
       "    </tr>\n",
       "    <tr>\n",
       "      <th>@mattkettmann</th>\n",
       "      <td>89.977103</td>\n",
       "      <td>36.267676</td>\n",
       "      <td>0.615984</td>\n",
       "      <td>0.498509</td>\n",
       "    </tr>\n",
       "    <tr>\n",
       "      <th>@paulgwine</th>\n",
       "      <td>88.933027</td>\n",
       "      <td>31.191223</td>\n",
       "      <td>0.261205</td>\n",
       "      <td>0.154569</td>\n",
       "    </tr>\n",
       "    <tr>\n",
       "      <th>@suskostrzewa</th>\n",
       "      <td>86.522863</td>\n",
       "      <td>21.468639</td>\n",
       "      <td>-0.557773</td>\n",
       "      <td>-0.504156</td>\n",
       "    </tr>\n",
       "    <tr>\n",
       "      <th>@vboone</th>\n",
       "      <td>88.843235</td>\n",
       "      <td>36.661009</td>\n",
       "      <td>0.230693</td>\n",
       "      <td>0.525159</td>\n",
       "    </tr>\n",
       "    <tr>\n",
       "      <th>@vossroger</th>\n",
       "      <td>88.381722</td>\n",
       "      <td>28.033615</td>\n",
       "      <td>0.073871</td>\n",
       "      <td>-0.059365</td>\n",
       "    </tr>\n",
       "    <tr>\n",
       "      <th>@wawinereport</th>\n",
       "      <td>88.571936</td>\n",
       "      <td>31.017651</td>\n",
       "      <td>0.138505</td>\n",
       "      <td>0.142809</td>\n",
       "    </tr>\n",
       "    <tr>\n",
       "      <th>@wineschach</th>\n",
       "      <td>86.618688</td>\n",
       "      <td>20.535772</td>\n",
       "      <td>-0.525211</td>\n",
       "      <td>-0.567360</td>\n",
       "    </tr>\n",
       "    <tr>\n",
       "      <th>@winewchristina</th>\n",
       "      <td>87.833333</td>\n",
       "      <td>29.333333</td>\n",
       "      <td>-0.112473</td>\n",
       "      <td>0.028693</td>\n",
       "    </tr>\n",
       "    <tr>\n",
       "      <th>@worldwineguys</th>\n",
       "      <td>88.673143</td>\n",
       "      <td>23.389244</td>\n",
       "      <td>0.172896</td>\n",
       "      <td>-0.374031</td>\n",
       "    </tr>\n",
       "  </tbody>\n",
       "</table>\n",
       "</div>"
      ],
      "text/plain": [
       "                          points      price  points_standardized  \\\n",
       "taster_twitter_handle                                              \n",
       "@AnneInVino            90.505190  29.717116             0.795429   \n",
       "@JoeCz                 88.169319  26.036160             0.001696   \n",
       "@bkfiona               86.818182  27.681818            -0.457423   \n",
       "@gordone_cellars       88.510996  25.343498             0.117798   \n",
       "@kerinokeefe           88.579800  32.275650             0.141178   \n",
       "@laurbuzz              87.570042  22.641157            -0.201940   \n",
       "@mattkettmann          89.977103  36.267676             0.615984   \n",
       "@paulgwine             88.933027  31.191223             0.261205   \n",
       "@suskostrzewa          86.522863  21.468639            -0.557773   \n",
       "@vboone                88.843235  36.661009             0.230693   \n",
       "@vossroger             88.381722  28.033615             0.073871   \n",
       "@wawinereport          88.571936  31.017651             0.138505   \n",
       "@wineschach            86.618688  20.535772            -0.525211   \n",
       "@winewchristina        87.833333  29.333333            -0.112473   \n",
       "@worldwineguys         88.673143  23.389244             0.172896   \n",
       "\n",
       "                       price_standardized  \n",
       "taster_twitter_handle                      \n",
       "@AnneInVino                      0.054695  \n",
       "@JoeCz                          -0.194697  \n",
       "@bkfiona                        -0.083200  \n",
       "@gordone_cellars                -0.241627  \n",
       "@kerinokeefe                     0.228041  \n",
       "@laurbuzz                       -0.424716  \n",
       "@mattkettmann                    0.498509  \n",
       "@paulgwine                       0.154569  \n",
       "@suskostrzewa                   -0.504156  \n",
       "@vboone                          0.525159  \n",
       "@vossroger                      -0.059365  \n",
       "@wawinereport                    0.142809  \n",
       "@wineschach                     -0.567360  \n",
       "@winewchristina                  0.028693  \n",
       "@worldwineguys                  -0.374031  "
      ]
     },
     "execution_count": 93,
     "metadata": {},
     "output_type": "execute_result"
    }
   ],
   "source": [
    "df.groupby([\"taster_twitter_handle\"]).mean()"
   ]
  },
  {
   "cell_type": "code",
   "execution_count": 94,
   "metadata": {},
   "outputs": [
    {
     "data": {
      "image/png": "[encoded data removed]",
      "text/plain": [
       "<matplotlib.figure.Figure at 0x7f9cc80dfac8>"
      ]
     },
     "metadata": {},
     "output_type": "display_data"
    }
   ],
   "source": [
    "plt.figure(figsize=(16,6))\n",
    "sns.boxplot(x = df[\"taster_twitter_handle\"], y = df[\"points\"])\n",
    "plt.title(\"TasterTwitterHandle-wise boxplot of points\")\n",
    "plt.xticks(rotation=90);"
   ]
  },
  {
   "cell_type": "markdown",
   "metadata": {},
   "source": [
    "<a id=\"conclusion\"></a>"
   ]
  },
  {
   "cell_type": "markdown",
   "metadata": {},
   "source": [
    "<a id=\"visualize\"></a>"
   ]
  },
  {
   "cell_type": "markdown",
   "metadata": {
    "collapsed": true
   },
   "source": [
    "### Conclusion ###"
   ]
  },
  {
   "cell_type": "markdown",
   "metadata": {},
   "source": [
    "We began by asking 4 questions of our [Wine Review](https://www.kaggle.com/zynicide/wine-reviews) dataset:\n",
    "\n",
    "  1. Do certain varieties consistently score higher than others?\n",
    "  1. Is there an optimal price range, such that you can have confidence that the price corresponds to relative quality?  (Prior to examining this data, I've assumed a range of 15-35 USD).\n",
    "  1. How does my favorite \"winery\" compare to others?\n",
    "  1. Which features best determine the score of a wine?\n",
    "  \n",
    "After applying some standard techniques to clean and transform our data, we then applied some statistical analysis to answer these questions.  \n",
    "\n",
    "Per Q1., we discovered that certain varieties do consistently score higher than others, and we highlighted \"Nebbiolo\" in particular (remember to spend 50 USD or more for your best chance at a truly great bottle).  \n",
    "\n",
    "Per Q2., we continued observed that the optimal price-range to purchase wine based on potential \"points\" is between 30-50 USD, with the most \"upside\" coming from a 45 USD bottle.  Can't afford the 50+USD \"Nebbiolo\" from Q1.?  If you can manage at least 30 USD, then you're still \"safe\" =)\n",
    "\n",
    "Per Q3., I was delighted to learn that my favorite winery: CVNE (Compañía Vinícola del Norte de España) ***does*** outperform other wineries,  and even more significantly when comparing Reds only.  (Lynmar)[https://lynmarestate.com/] is the winery that scores the highest; they are known for their Pinot Noirs and Chardonnays.\n",
    "\n",
    "Per Q4., we confirmed the obvious assumption that \"price\" has the most significant impact on \"points\", but it was the feature having the second most impact which was most surprising: \"taster_twitter_handle\".  [@AnneInVino](https://twitter.com/anneinvino) didn't always award the highest scores, but she rarely awards the lowest, and that sort of Taster bias makes \"taster_twitter_handle\" the second most important feature in our dataset.  Simply removing this feature doesn't help because the Taster's bias is already embedded in the \"points\"; rather we could assign a bias value to each review based on reviewer and then update with a \"lesser_biased_points\" feature, but that is work for another day...\n",
    "\n",
    "I hope that this analysis will help you find a higher quality (er, at least a higher scored!) bottle of wine on your next purchase!"
   ]
  },
  {
   "cell_type": "code",
   "execution_count": null,
   "metadata": {
    "collapsed": true
   },
   "outputs": [],
   "source": []
  }
 ],
 "metadata": {
  "kernelspec": {
   "display_name": "Python 3",
   "language": "python",
   "name": "python3"
  },
  "language_info": {
   "codemirror_mode": {
    "name": "ipython",
    "version": 3
   },
   "file_extension": ".py",
   "mimetype": "text/x-python",
   "name": "python",
   "nbconvert_exporter": "python",
   "pygments_lexer": "ipython3",
   "version": "3.6.3"
  }
 },
 "nbformat": 4,
 "nbformat_minor": 2
}
